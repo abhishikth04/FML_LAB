{
  "nbformat": 4,
  "nbformat_minor": 0,
  "metadata": {
    "colab": {
      "provenance": [],
      "mount_file_id": "1T80oEWyq7W6qDEu0nTMTECARjcVOSTbs",
      "authorship_tag": "ABX9TyNLyQ+iNmQ5cNKBIk8Tdu7i",
      "include_colab_link": true
    },
    "kernelspec": {
      "name": "python3",
      "display_name": "Python 3"
    },
    "language_info": {
      "name": "python"
    }
  },
  "cells": [
    {
      "cell_type": "markdown",
      "metadata": {
        "id": "view-in-github",
        "colab_type": "text"
      },
      "source": [
        "<a href=\"https://colab.research.google.com/github/abhishikth04/FML_LAB/blob/main/APPL_Numpy.ipynb\" target=\"_parent\"><img src=\"https://colab.research.google.com/assets/colab-badge.svg\" alt=\"Open In Colab\"/></a>"
      ]
    },
    {
      "cell_type": "code",
      "execution_count": null,
      "metadata": {
        "id": "2ZwIIcaPASps"
      },
      "outputs": [],
      "source": [
        "import numpy as np"
      ]
    },
    {
      "cell_type": "markdown",
      "source": [
        "# **0 - Dimension Array**"
      ],
      "metadata": {
        "id": "nrU3ZlDZI4LI"
      }
    },
    {
      "cell_type": "code",
      "source": [
        "a = np.array(800)\n",
        "\n",
        "print(a)"
      ],
      "metadata": {
        "colab": {
          "base_uri": "https://localhost:8080/"
        },
        "id": "PSjuN9zxJCD6",
        "outputId": "3b6a051c-a239-43bb-e74c-9c48bcf0f083"
      },
      "execution_count": null,
      "outputs": [
        {
          "output_type": "stream",
          "name": "stdout",
          "text": [
            "800\n"
          ]
        }
      ]
    },
    {
      "cell_type": "code",
      "source": [
        "b = np.array(500)\n",
        "print(b)"
      ],
      "metadata": {
        "colab": {
          "base_uri": "https://localhost:8080/"
        },
        "id": "mLJcE6mWWOX0",
        "outputId": "94c10735-7971-4936-aa65-c11fe73eea1a"
      },
      "execution_count": null,
      "outputs": [
        {
          "output_type": "stream",
          "name": "stdout",
          "text": [
            "500\n"
          ]
        }
      ]
    },
    {
      "cell_type": "code",
      "source": [
        "c = np.array(400)\n",
        "print(c)\n",
        "\n"
      ],
      "metadata": {
        "colab": {
          "base_uri": "https://localhost:8080/"
        },
        "id": "zOSipXpPWaNf",
        "outputId": "8efde55a-ee86-4139-d4b5-b6cc4ead501e"
      },
      "execution_count": null,
      "outputs": [
        {
          "output_type": "stream",
          "name": "stdout",
          "text": [
            "400\n"
          ]
        }
      ]
    },
    {
      "cell_type": "code",
      "source": [
        "d = np.array(900)\n",
        "print(d)\n"
      ],
      "metadata": {
        "colab": {
          "base_uri": "https://localhost:8080/"
        },
        "id": "eFca6KbbWjQ_",
        "outputId": "2c5fb14f-ee69-4092-cbf0-43fb9e2bba7f"
      },
      "execution_count": null,
      "outputs": [
        {
          "output_type": "stream",
          "name": "stdout",
          "text": [
            "900\n"
          ]
        }
      ]
    },
    {
      "cell_type": "markdown",
      "source": [
        "# **1-Dimension Array**\n",
        "collection of is form 1-Dimensional Array"
      ],
      "metadata": {
        "id": "eOyL2JPPA7v6"
      }
    },
    {
      "cell_type": "code",
      "source": [
        "a1 = np.array([200,300,400,500,600,700,800])\n",
        "\n",
        "print(a1)"
      ],
      "metadata": {
        "colab": {
          "base_uri": "https://localhost:8080/"
        },
        "id": "ht1-He2DBY3B",
        "outputId": "4cd3fd16-01a9-47bd-91bf-4994071ec86b"
      },
      "execution_count": null,
      "outputs": [
        {
          "output_type": "stream",
          "name": "stdout",
          "text": [
            "[200 300 400 500 600 700 800]\n"
          ]
        }
      ]
    },
    {
      "cell_type": "code",
      "source": [
        "a2 = np.array([1,2,3,4,6,7,8])\n",
        "print(a2)\n",
        "\n"
      ],
      "metadata": {
        "colab": {
          "base_uri": "https://localhost:8080/"
        },
        "id": "IT_GodlJWwHs",
        "outputId": "d9d3b67d-c83c-4fb6-8727-65c36a487db1"
      },
      "execution_count": null,
      "outputs": [
        {
          "output_type": "stream",
          "name": "stdout",
          "text": [
            "[1 2 3 4 6 7 8]\n"
          ]
        }
      ]
    },
    {
      "cell_type": "code",
      "source": [
        "a3 = np.array([1.1,1.2,1.3,1.4,1.5])\n",
        "print(a3)\n",
        "\n"
      ],
      "metadata": {
        "colab": {
          "base_uri": "https://localhost:8080/"
        },
        "id": "Kt2jsBodW6Wn",
        "outputId": "7b0b1b84-a126-41b9-b445-c1ac977353bf"
      },
      "execution_count": null,
      "outputs": [
        {
          "output_type": "stream",
          "name": "stdout",
          "text": [
            "[1.1 1.2 1.3 1.4 1.5]\n"
          ]
        }
      ]
    },
    {
      "cell_type": "code",
      "source": [
        "a4 = np.array([10,20,30,40,50])\n",
        "print(a4)\n",
        "\n"
      ],
      "metadata": {
        "colab": {
          "base_uri": "https://localhost:8080/"
        },
        "id": "b_g276NkXBmH",
        "outputId": "d95cc50c-c86e-4f77-d88a-5f556903edaf"
      },
      "execution_count": null,
      "outputs": [
        {
          "output_type": "stream",
          "name": "stdout",
          "text": [
            "[10 20 30 40 50]\n"
          ]
        }
      ]
    },
    {
      "cell_type": "markdown",
      "source": [
        "# **2 - Dimension Array**\n",
        "\n",
        "\n",
        "*   0th list\n",
        "*   1st list\n",
        "\n"
      ],
      "metadata": {
        "id": "R1DdexbpBrof"
      }
    },
    {
      "cell_type": "code",
      "source": [
        "b1 = np.array([[200,300],[400,500]])\n",
        "\n",
        "print(b1)"
      ],
      "metadata": {
        "colab": {
          "base_uri": "https://localhost:8080/"
        },
        "id": "21BYS6BWCH33",
        "outputId": "13d23c58-9492-4755-a4b9-d60f78b5a531"
      },
      "execution_count": null,
      "outputs": [
        {
          "output_type": "stream",
          "name": "stdout",
          "text": [
            "[[200 300]\n",
            " [400 500]]\n"
          ]
        }
      ]
    },
    {
      "cell_type": "code",
      "source": [
        "b2 = np.array([[1,2,3],[4,5,6]])\n",
        "print(b2)\n",
        "print(b2[1,1])\n",
        "\n"
      ],
      "metadata": {
        "colab": {
          "base_uri": "https://localhost:8080/"
        },
        "id": "MTcOxjPiXLCo",
        "outputId": "8cfef5dd-f5db-44ca-9bb8-44d6a72dcd2f"
      },
      "execution_count": null,
      "outputs": [
        {
          "output_type": "stream",
          "name": "stdout",
          "text": [
            "[[1 2 3]\n",
            " [4 5 6]]\n",
            "5\n"
          ]
        }
      ]
    },
    {
      "cell_type": "code",
      "source": [
        "b3 = np.array([[10,20,30],[40,50,60]])\n",
        "print(b3)\n",
        "\n"
      ],
      "metadata": {
        "colab": {
          "base_uri": "https://localhost:8080/"
        },
        "id": "iIaNVbWcXSUg",
        "outputId": "cb7e21c1-c867-41ce-dca4-6acfa1eb26f3"
      },
      "execution_count": null,
      "outputs": [
        {
          "output_type": "stream",
          "name": "stdout",
          "text": [
            "[[10 20 30]\n",
            " [40 50 60]]\n"
          ]
        }
      ]
    },
    {
      "cell_type": "code",
      "source": [
        "b4 = np.array([[11,12,13,14],[15,16,17,18]])\n",
        "print(b4)\n",
        "\n",
        "print(b4[0][2])\n",
        "print(b4[1][1])\n",
        "\n",
        "\n"
      ],
      "metadata": {
        "colab": {
          "base_uri": "https://localhost:8080/"
        },
        "id": "vr4vEXNzXdVv",
        "outputId": "70b960fb-a25c-4ca3-b36f-6ca1dba07863"
      },
      "execution_count": null,
      "outputs": [
        {
          "output_type": "stream",
          "name": "stdout",
          "text": [
            "[[11 12 13 14]\n",
            " [15 16 17 18]]\n",
            "13\n",
            "16\n"
          ]
        }
      ]
    },
    {
      "cell_type": "markdown",
      "source": [
        "# **3 - Dimension Array**"
      ],
      "metadata": {
        "id": "tTDS5JjzHT0J"
      }
    },
    {
      "cell_type": "code",
      "source": [
        "c1 = np.array([[[200,300],[400,500]],[[600,700],[800,900]]])\n",
        "\n",
        "print(c1)\n"
      ],
      "metadata": {
        "colab": {
          "base_uri": "https://localhost:8080/"
        },
        "id": "rWEN5qGcHg2o",
        "outputId": "b96cbe3f-482b-4c9d-881d-a49b937e1fda"
      },
      "execution_count": null,
      "outputs": [
        {
          "output_type": "stream",
          "name": "stdout",
          "text": [
            "[[[200 300]\n",
            "  [400 500]]\n",
            "\n",
            " [[600 700]\n",
            "  [800 900]]]\n"
          ]
        }
      ]
    },
    {
      "cell_type": "code",
      "source": [
        "c2 = np.array([[[10,20,30],[40,50,60]],[[70,80,90],[100,110,120]]])\n",
        "print(c2)\n"
      ],
      "metadata": {
        "colab": {
          "base_uri": "https://localhost:8080/"
        },
        "id": "gUmbf_VLXon2",
        "outputId": "a62b504b-8e46-43f1-f330-f923b22196be"
      },
      "execution_count": null,
      "outputs": [
        {
          "output_type": "stream",
          "name": "stdout",
          "text": [
            "[[[ 10  20  30]\n",
            "  [ 40  50  60]]\n",
            "\n",
            " [[ 70  80  90]\n",
            "  [100 110 120]]]\n"
          ]
        }
      ]
    },
    {
      "cell_type": "code",
      "source": [
        "c3 = np.array([[[1,2,3],[4,5,6]],[[7,8,9],[10,11,12]]])\n",
        "print(c3)\n",
        "\n",
        "print(c3[1][0][2])"
      ],
      "metadata": {
        "colab": {
          "base_uri": "https://localhost:8080/"
        },
        "id": "KAhdM2ePXuqf",
        "outputId": "0aacd71e-f2ea-4401-e7f0-815b166655b6"
      },
      "execution_count": null,
      "outputs": [
        {
          "output_type": "stream",
          "name": "stdout",
          "text": [
            "[[[ 1  2  3]\n",
            "  [ 4  5  6]]\n",
            "\n",
            " [[ 7  8  9]\n",
            "  [10 11 12]]]\n",
            "9\n"
          ]
        }
      ]
    },
    {
      "cell_type": "code",
      "source": [
        "c4 = np.array([[[1.1,1.2,1.3],[1.4,1.5,1.6]],[[1.7,1.8,1.9],[2.0,2.1,2.2]]])\n",
        "print(c4)\n",
        "\n",
        "print(c4[0][0][1])"
      ],
      "metadata": {
        "colab": {
          "base_uri": "https://localhost:8080/"
        },
        "id": "4-GF6BkDYBv0",
        "outputId": "2bf418c9-3954-45b9-e473-5547580a410c"
      },
      "execution_count": null,
      "outputs": [
        {
          "output_type": "stream",
          "name": "stdout",
          "text": [
            "[[[1.1 1.2 1.3]\n",
            "  [1.4 1.5 1.6]]\n",
            "\n",
            " [[1.7 1.8 1.9]\n",
            "  [2.  2.1 2.2]]]\n",
            "1.2\n"
          ]
        }
      ]
    },
    {
      "cell_type": "markdown",
      "source": [],
      "metadata": {
        "id": "lvnuFTU3IJmq"
      }
    },
    {
      "cell_type": "markdown",
      "source": [
        "# **asarray()**"
      ],
      "metadata": {
        "id": "mUmmlM1cIJpT"
      }
    },
    {
      "cell_type": "code",
      "source": [
        "d1 = [200,300,400,500]\n",
        "d2 = np.asarray(d1,dtype = \"float\")\n",
        "print(d2)"
      ],
      "metadata": {
        "colab": {
          "base_uri": "https://localhost:8080/"
        },
        "id": "4ntranssIQh2",
        "outputId": "86a5eb8f-c4d8-44df-9456-8d20f73d5532"
      },
      "execution_count": null,
      "outputs": [
        {
          "output_type": "stream",
          "name": "stdout",
          "text": [
            "[200. 300. 400. 500.]\n"
          ]
        }
      ]
    },
    {
      "cell_type": "code",
      "source": [
        "e1 = [1,2,3,4,5,6]\n",
        "e2 = np.asarray(e1,dtype = \"S1\")\n",
        "print(e2)"
      ],
      "metadata": {
        "colab": {
          "base_uri": "https://localhost:8080/"
        },
        "id": "lY0_r6RpaSOk",
        "outputId": "daa45955-8a59-4584-d04f-ebd7e7335932"
      },
      "execution_count": null,
      "outputs": [
        {
          "output_type": "stream",
          "name": "stdout",
          "text": [
            "[b'1' b'2' b'3' b'4' b'5' b'6']\n"
          ]
        }
      ]
    },
    {
      "cell_type": "code",
      "source": [
        "f1 = [1.1,1.2,1.3,1.4]\n",
        "f2 = np.asarray(f1,dtype = \"int\")\n",
        "print(f2)"
      ],
      "metadata": {
        "colab": {
          "base_uri": "https://localhost:8080/"
        },
        "id": "bcwC5bA5a08s",
        "outputId": "89a71d7d-80c4-413c-b764-e6b8fe4e5833"
      },
      "execution_count": null,
      "outputs": [
        {
          "output_type": "stream",
          "name": "stdout",
          "text": [
            "[1 1 1 1]\n"
          ]
        }
      ]
    },
    {
      "cell_type": "code",
      "source": [
        "g1 = [5,6,7,8,9]\n",
        "g2 = np.asarray(g1,dtype = \"float\")\n",
        "print(g2)"
      ],
      "metadata": {
        "colab": {
          "base_uri": "https://localhost:8080/"
        },
        "id": "aw1UdA_1biMH",
        "outputId": "d88d73b9-5c3e-42b7-8248-cd5da4e3b5e7"
      },
      "execution_count": null,
      "outputs": [
        {
          "output_type": "stream",
          "name": "stdout",
          "text": [
            "[5. 6. 7. 8. 9.]\n"
          ]
        }
      ]
    },
    {
      "cell_type": "markdown",
      "source": [
        "# **frombuffer()**\n",
        "\n",
        "\n",
        "\n",
        "1.   Converts string into buffer\n",
        "2.   place b infront of the string\n",
        "\n"
      ],
      "metadata": {
        "id": "C_Ld5nA9clXb"
      }
    },
    {
      "cell_type": "code",
      "source": [
        "h1 = b\"First year CSE students\"\n",
        "h2 = np.frombuffer(h1,dtype = \"S1\")\n",
        "print(h2)"
      ],
      "metadata": {
        "colab": {
          "base_uri": "https://localhost:8080/"
        },
        "id": "tMz2iZrzcsT2",
        "outputId": "403f90b7-6c2a-4fbb-83a9-8cf9bf6ae3c5"
      },
      "execution_count": null,
      "outputs": [
        {
          "output_type": "stream",
          "name": "stdout",
          "text": [
            "[b'F' b'i' b'r' b's' b't' b' ' b'y' b'e' b'a' b'r' b' ' b'C' b'S' b'E'\n",
            " b' ' b's' b't' b'u' b'd' b'e' b'n' b't' b's']\n"
          ]
        }
      ]
    },
    {
      "cell_type": "code",
      "source": [
        "# count\n",
        "h3 = b\"Heello World\"\n",
        "h4 = np.frombuffer(h3,dtype = \"S1\" , count = 10)\n",
        "print(h4)"
      ],
      "metadata": {
        "colab": {
          "base_uri": "https://localhost:8080/"
        },
        "id": "TjfwDEwydEcS",
        "outputId": "445255ce-c9ef-488c-9998-c10a866bad2d"
      },
      "execution_count": null,
      "outputs": [
        {
          "output_type": "stream",
          "name": "stdout",
          "text": [
            "[b'H' b'e' b'e' b'l' b'l' b'o' b' ' b'W' b'o' b'r']\n"
          ]
        }
      ]
    },
    {
      "cell_type": "code",
      "source": [
        "# offset\n",
        "h5 = b\"Good Morning\"\n",
        "h6 = np.frombuffer(h5,dtype = \"S1\" , count = 5 , offset = 2)\n",
        "print(h6)"
      ],
      "metadata": {
        "colab": {
          "base_uri": "https://localhost:8080/"
        },
        "id": "vtKoqxNgdpkO",
        "outputId": "75761267-0b76-4368-a352-7f125c9bbca1"
      },
      "execution_count": null,
      "outputs": [
        {
          "output_type": "stream",
          "name": "stdout",
          "text": [
            "[b'o' b'd' b' ' b'M' b'o']\n"
          ]
        }
      ]
    },
    {
      "cell_type": "code",
      "source": [
        "h7 = b\"Good Evening to all\"\n",
        "h8 = np.frombuffer(h7 , dtype = \"S1\")\n",
        "print(h8)"
      ],
      "metadata": {
        "colab": {
          "base_uri": "https://localhost:8080/"
        },
        "id": "PgR-Ba44eApP",
        "outputId": "f0f8ca52-1654-4813-f600-5a7f035b7cc6"
      },
      "execution_count": null,
      "outputs": [
        {
          "output_type": "stream",
          "name": "stdout",
          "text": [
            "[b'G' b'o' b'o' b'd' b' ' b'E' b'v' b'e' b'n' b'i' b'n' b'g' b' ' b't'\n",
            " b'o' b' ' b'a' b'l' b'l']\n"
          ]
        }
      ]
    },
    {
      "cell_type": "markdown",
      "source": [
        "# **fromiter()**\n",
        "\n"
      ],
      "metadata": {
        "id": "OM_HZ-6beerE"
      }
    },
    {
      "cell_type": "code",
      "source": [
        "i1 = ([200,300,400,500])\n",
        "i2 = np.fromiter(i1,dtype = \"int\" , count = 3)\n",
        "print(i2)\n"
      ],
      "metadata": {
        "colab": {
          "base_uri": "https://localhost:8080/"
        },
        "id": "qizOAb_hej9e",
        "outputId": "250e4159-ea9d-41c5-e4ee-325f9c56b936"
      },
      "execution_count": null,
      "outputs": [
        {
          "output_type": "stream",
          "name": "stdout",
          "text": [
            "[200 300 400]\n"
          ]
        }
      ]
    },
    {
      "cell_type": "code",
      "source": [
        "i3 = ([1,2,3,4,5])\n",
        "i4 = np.fromiter(i3,dtype = \"float\" , count = 4)\n",
        "print(i4)"
      ],
      "metadata": {
        "colab": {
          "base_uri": "https://localhost:8080/"
        },
        "id": "22fF5ZxkfLyL",
        "outputId": "84830c72-e312-409a-87d5-891faef4a12e"
      },
      "execution_count": null,
      "outputs": [
        {
          "output_type": "stream",
          "name": "stdout",
          "text": [
            "[1. 2. 3. 4.]\n"
          ]
        }
      ]
    },
    {
      "cell_type": "code",
      "source": [
        "i5 = ([5,6,7,8,9,10,11,12])\n",
        "i6 = np.fromiter(i5,dtype = \"float\" , count = 4)\n",
        "print(i6)"
      ],
      "metadata": {
        "colab": {
          "base_uri": "https://localhost:8080/"
        },
        "id": "JCS8mDsVfjbE",
        "outputId": "0af78e5a-4bad-42a2-8e86-b73858251c0c"
      },
      "execution_count": null,
      "outputs": [
        {
          "output_type": "stream",
          "name": "stdout",
          "text": [
            "[5. 6. 7. 8.]\n"
          ]
        }
      ]
    },
    {
      "cell_type": "code",
      "source": [
        "i7 = ([3,4,5,6,7,8])\n",
        "i8 = np.fromiter(i7,dtype = \"S1\",count = 5)\n",
        "print(i8)"
      ],
      "metadata": {
        "colab": {
          "base_uri": "https://localhost:8080/"
        },
        "id": "ubiyy7CwgOVs",
        "outputId": "d27d2d97-717f-4ae3-9666-822aee112ca0"
      },
      "execution_count": null,
      "outputs": [
        {
          "output_type": "stream",
          "name": "stdout",
          "text": [
            "[b'3' b'4' b'5' b'6' b'7']\n"
          ]
        }
      ]
    },
    {
      "cell_type": "markdown",
      "source": [],
      "metadata": {
        "id": "klk95DUuJO1w"
      }
    },
    {
      "cell_type": "markdown",
      "source": [
        "\n",
        "\n",
        "# 1.  Row Major Order (\"C\")\n",
        "\n",
        "\n",
        "# 2.   Coloumn Major Order (\"F\")\n",
        "\n",
        "\n",
        "\n",
        "\n",
        "\n"
      ],
      "metadata": {
        "id": "Yzp-R9o0JO4p"
      }
    },
    {
      "cell_type": "code",
      "source": [
        "a = [[200,300],[400,500]]\n",
        "print(b)\n",
        "b = np.asarray(a,order = \"C\")\n",
        "for i in np.nditer(b):\n",
        "  print(i)"
      ],
      "metadata": {
        "colab": {
          "base_uri": "https://localhost:8080/"
        },
        "id": "adOsuS_qM4ax",
        "outputId": "332c98ee-afb8-4082-bd6a-b18745b2c872"
      },
      "execution_count": null,
      "outputs": [
        {
          "output_type": "stream",
          "name": "stdout",
          "text": [
            "[[200 300]\n",
            " [400 500]]\n",
            "200\n",
            "300\n",
            "400\n",
            "500\n"
          ]
        }
      ]
    },
    {
      "cell_type": "code",
      "source": [
        "a = [[200,300],[400,500]]\n",
        "b = np.asarray(a,order = \"F\")\n",
        "for i in np.nditer(b):\n",
        "  print(i)"
      ],
      "metadata": {
        "colab": {
          "base_uri": "https://localhost:8080/"
        },
        "id": "zv5mjh3UOXyz",
        "outputId": "6b2eacfd-783c-4713-d470-2a1937998598"
      },
      "execution_count": null,
      "outputs": [
        {
          "output_type": "stream",
          "name": "stdout",
          "text": [
            "200\n",
            "400\n",
            "300\n",
            "500\n"
          ]
        }
      ]
    },
    {
      "cell_type": "markdown",
      "source": [
        "# **Initializing Arrays**"
      ],
      "metadata": {
        "id": "BFTfmCkFU-6q"
      }
    },
    {
      "cell_type": "markdown",
      "source": [
        "# **Zeros()**"
      ],
      "metadata": {
        "id": "I8C4ehsiVHOZ"
      }
    },
    {
      "cell_type": "code",
      "source": [
        "a = np.zeros(10)\n",
        "print(a)"
      ],
      "metadata": {
        "colab": {
          "base_uri": "https://localhost:8080/"
        },
        "id": "jAAh1yhCVNUd",
        "outputId": "d514c9dc-12c5-4860-edc6-434ffa4e4691"
      },
      "execution_count": null,
      "outputs": [
        {
          "output_type": "stream",
          "name": "stdout",
          "text": [
            "[0. 0. 0. 0. 0. 0. 0. 0. 0. 0.]\n"
          ]
        }
      ]
    },
    {
      "cell_type": "code",
      "source": [
        "np.zeros([4,5])\n"
      ],
      "metadata": {
        "colab": {
          "base_uri": "https://localhost:8080/"
        },
        "id": "0A8lq89KVlj1",
        "outputId": "43da9df5-6599-4892-cdd5-5179606824f8"
      },
      "execution_count": null,
      "outputs": [
        {
          "output_type": "execute_result",
          "data": {
            "text/plain": [
              "array([[0., 0., 0., 0., 0.],\n",
              "       [0., 0., 0., 0., 0.],\n",
              "       [0., 0., 0., 0., 0.],\n",
              "       [0., 0., 0., 0., 0.]])"
            ]
          },
          "metadata": {},
          "execution_count": 22
        }
      ]
    },
    {
      "cell_type": "code",
      "source": [
        "a1 = np.zeros([5,4],dtype = int)\n",
        "print(a1)"
      ],
      "metadata": {
        "colab": {
          "base_uri": "https://localhost:8080/"
        },
        "id": "GFgM41epYKJt",
        "outputId": "61e5022f-511f-40ce-e30c-eab2746d233a"
      },
      "execution_count": null,
      "outputs": [
        {
          "output_type": "stream",
          "name": "stdout",
          "text": [
            "[[0 0 0 0]\n",
            " [0 0 0 0]\n",
            " [0 0 0 0]\n",
            " [0 0 0 0]\n",
            " [0 0 0 0]]\n"
          ]
        }
      ]
    },
    {
      "cell_type": "code",
      "source": [
        "b = np.zeros([5,4,4])\n",
        "print(b)"
      ],
      "metadata": {
        "colab": {
          "base_uri": "https://localhost:8080/"
        },
        "id": "avBke-6QV9bx",
        "outputId": "f893f410-fcb8-44cf-bc47-7606187a215c"
      },
      "execution_count": null,
      "outputs": [
        {
          "output_type": "stream",
          "name": "stdout",
          "text": [
            "[[[0. 0. 0. 0.]\n",
            "  [0. 0. 0. 0.]\n",
            "  [0. 0. 0. 0.]\n",
            "  [0. 0. 0. 0.]]\n",
            "\n",
            " [[0. 0. 0. 0.]\n",
            "  [0. 0. 0. 0.]\n",
            "  [0. 0. 0. 0.]\n",
            "  [0. 0. 0. 0.]]\n",
            "\n",
            " [[0. 0. 0. 0.]\n",
            "  [0. 0. 0. 0.]\n",
            "  [0. 0. 0. 0.]\n",
            "  [0. 0. 0. 0.]]\n",
            "\n",
            " [[0. 0. 0. 0.]\n",
            "  [0. 0. 0. 0.]\n",
            "  [0. 0. 0. 0.]\n",
            "  [0. 0. 0. 0.]]\n",
            "\n",
            " [[0. 0. 0. 0.]\n",
            "  [0. 0. 0. 0.]\n",
            "  [0. 0. 0. 0.]\n",
            "  [0. 0. 0. 0.]]]\n"
          ]
        }
      ]
    },
    {
      "cell_type": "markdown",
      "source": [
        "# **full()**"
      ],
      "metadata": {
        "id": "SarMy95hWb5H"
      }
    },
    {
      "cell_type": "code",
      "source": [
        "c = np.full([4,4],6)\n",
        "print(c)"
      ],
      "metadata": {
        "colab": {
          "base_uri": "https://localhost:8080/"
        },
        "id": "AieL8UbuWiw5",
        "outputId": "fc263bd5-e58d-4d56-9231-8adb86ed810e"
      },
      "execution_count": null,
      "outputs": [
        {
          "output_type": "stream",
          "name": "stdout",
          "text": [
            "[[6 6 6 6]\n",
            " [6 6 6 6]\n",
            " [6 6 6 6]\n",
            " [6 6 6 6]]\n"
          ]
        }
      ]
    },
    {
      "cell_type": "code",
      "source": [
        "d = np.full([4,4,6],8)\n",
        "print(d)"
      ],
      "metadata": {
        "colab": {
          "base_uri": "https://localhost:8080/"
        },
        "id": "ZRYmsQBdXEBx",
        "outputId": "328103a6-bdbb-4726-bb1b-e6ee79159486"
      },
      "execution_count": null,
      "outputs": [
        {
          "output_type": "stream",
          "name": "stdout",
          "text": [
            "[[[8 8 8 8 8 8]\n",
            "  [8 8 8 8 8 8]\n",
            "  [8 8 8 8 8 8]\n",
            "  [8 8 8 8 8 8]]\n",
            "\n",
            " [[8 8 8 8 8 8]\n",
            "  [8 8 8 8 8 8]\n",
            "  [8 8 8 8 8 8]\n",
            "  [8 8 8 8 8 8]]\n",
            "\n",
            " [[8 8 8 8 8 8]\n",
            "  [8 8 8 8 8 8]\n",
            "  [8 8 8 8 8 8]\n",
            "  [8 8 8 8 8 8]]\n",
            "\n",
            " [[8 8 8 8 8 8]\n",
            "  [8 8 8 8 8 8]\n",
            "  [8 8 8 8 8 8]\n",
            "  [8 8 8 8 8 8]]]\n"
          ]
        }
      ]
    },
    {
      "cell_type": "markdown",
      "source": [
        "# **random.rand()**\n",
        "\n",
        "*   Output in between 0 to 1\n",
        "*   no use of subscript[]\n",
        "\n",
        "\n",
        "\n",
        "\n",
        "\n"
      ],
      "metadata": {
        "id": "XTzAoS5nXGT5"
      }
    },
    {
      "cell_type": "code",
      "source": [
        "e = np.random.rand(5,6)\n",
        "print(e)"
      ],
      "metadata": {
        "colab": {
          "base_uri": "https://localhost:8080/"
        },
        "id": "oyNdqvgmXhWW",
        "outputId": "80b7c25f-e283-4ed1-d5db-cfc7ef443a6b"
      },
      "execution_count": null,
      "outputs": [
        {
          "output_type": "stream",
          "name": "stdout",
          "text": [
            "[[0.30264704 0.65549418 0.8155683  0.89974238 0.01166051 0.73041487]\n",
            " [0.35043542 0.28612267 0.03980986 0.61251962 0.72228897 0.99351158]\n",
            " [0.72857158 0.48829356 0.59809249 0.89472603 0.85073082 0.26773684]\n",
            " [0.4567055  0.03308346 0.59295373 0.42656482 0.57918935 0.76660138]\n",
            " [0.05630915 0.04527299 0.32779743 0.38568412 0.11142845 0.98045879]]\n"
          ]
        }
      ]
    },
    {
      "cell_type": "code",
      "source": [
        "e1 = np.random.rand(6,5,6)\n",
        "print(e1)"
      ],
      "metadata": {
        "colab": {
          "base_uri": "https://localhost:8080/"
        },
        "id": "X_v-c8qqXyjq",
        "outputId": "f7005c02-173c-4c04-f0a7-95b2e8f01860"
      },
      "execution_count": null,
      "outputs": [
        {
          "output_type": "stream",
          "name": "stdout",
          "text": [
            "[[[0.76042064 0.80600799 0.39930594 0.75924661 0.94219929 0.04002343]\n",
            "  [0.47628308 0.99649372 0.70382808 0.847299   0.7743173  0.96879286]\n",
            "  [0.35472847 0.38818153 0.66881733 0.28347563 0.66778834 0.69337228]\n",
            "  [0.01937621 0.67369893 0.18171446 0.48338386 0.47985879 0.65328023]\n",
            "  [0.65258844 0.88890113 0.75603795 0.71631559 0.06315081 0.52360671]]\n",
            "\n",
            " [[0.21771663 0.58502687 0.65144321 0.50395623 0.58820441 0.50261046]\n",
            "  [0.14873445 0.35988305 0.36663719 0.9039794  0.90553497 0.80244167]\n",
            "  [0.00126888 0.38121025 0.0669321  0.25240352 0.52581395 0.73731094]\n",
            "  [0.85143911 0.55319867 0.03521058 0.67529706 0.02004587 0.70314194]\n",
            "  [0.23873611 0.55507732 0.30767199 0.64207622 0.39002022 0.63935253]]\n",
            "\n",
            " [[0.54799918 0.07722673 0.47799294 0.19534684 0.28338179 0.10069271]\n",
            "  [0.82381104 0.38994977 0.86849324 0.16534233 0.28565167 0.81821163]\n",
            "  [0.61138678 0.45457417 0.31494619 0.03604769 0.24415256 0.17481968]\n",
            "  [0.9432975  0.65742831 0.8138423  0.16603854 0.69784612 0.77062635]\n",
            "  [0.4818292  0.28526135 0.01364943 0.25879968 0.81088666 0.00867957]]\n",
            "\n",
            " [[0.54252287 0.05449353 0.48669046 0.18640002 0.36640151 0.7978832 ]\n",
            "  [0.52711753 0.54871125 0.66368883 0.4830787  0.1401196  0.01709215]\n",
            "  [0.81143898 0.15668749 0.67902549 0.10644521 0.32288312 0.0280891 ]\n",
            "  [0.47988295 0.31463068 0.1499836  0.28193565 0.65250719 0.55399171]\n",
            "  [0.89224853 0.80541462 0.4664405  0.0053586  0.67091817 0.14345958]]\n",
            "\n",
            " [[0.62938172 0.95387693 0.91689758 0.75999733 0.2249865  0.34712193]\n",
            "  [0.55005498 0.49656096 0.80569336 0.72666197 0.34183918 0.50821063]\n",
            "  [0.64220939 0.38899827 0.75258276 0.02439367 0.71946629 0.5796924 ]\n",
            "  [0.12020637 0.40979372 0.72911158 0.25135466 0.75415009 0.27542427]\n",
            "  [0.81395335 0.38031861 0.45155425 0.82929516 0.78396097 0.03322058]]\n",
            "\n",
            " [[0.38130383 0.02657744 0.73067713 0.9783821  0.47858866 0.20224702]\n",
            "  [0.9360621  0.45079301 0.55488517 0.19183295 0.66620727 0.30970416]\n",
            "  [0.97276495 0.88404111 0.47380456 0.937386   0.16435242 0.61254274]\n",
            "  [0.23518452 0.24600288 0.87812199 0.81579432 0.19898166 0.62500435]\n",
            "  [0.04070691 0.49771213 0.32358768 0.44931231 0.7590897  0.80199631]]]\n"
          ]
        }
      ]
    },
    {
      "cell_type": "markdown",
      "source": [
        "# **ones()**"
      ],
      "metadata": {
        "id": "ESnhSZ1kYftH"
      }
    },
    {
      "cell_type": "code",
      "source": [
        "f = np.ones([4,6],dtype = 'int')\n",
        "print(f)"
      ],
      "metadata": {
        "colab": {
          "base_uri": "https://localhost:8080/"
        },
        "id": "SmWPhVBiYkKv",
        "outputId": "3550061c-f063-4438-a6af-2d435c51cf6b"
      },
      "execution_count": null,
      "outputs": [
        {
          "output_type": "stream",
          "name": "stdout",
          "text": [
            "[[1 1 1 1 1 1]\n",
            " [1 1 1 1 1 1]\n",
            " [1 1 1 1 1 1]\n",
            " [1 1 1 1 1 1]]\n"
          ]
        }
      ]
    },
    {
      "cell_type": "code",
      "source": [
        "f1 = np.ones([4,4,6],dtype = int)\n",
        "print(f1)"
      ],
      "metadata": {
        "colab": {
          "base_uri": "https://localhost:8080/"
        },
        "id": "KtbYhCNJYx35",
        "outputId": "aaa6f002-1b2c-4e77-c9c0-2eda9a39fdae"
      },
      "execution_count": null,
      "outputs": [
        {
          "output_type": "stream",
          "name": "stdout",
          "text": [
            "[[[1 1 1 1 1 1]\n",
            "  [1 1 1 1 1 1]\n",
            "  [1 1 1 1 1 1]\n",
            "  [1 1 1 1 1 1]]\n",
            "\n",
            " [[1 1 1 1 1 1]\n",
            "  [1 1 1 1 1 1]\n",
            "  [1 1 1 1 1 1]\n",
            "  [1 1 1 1 1 1]]\n",
            "\n",
            " [[1 1 1 1 1 1]\n",
            "  [1 1 1 1 1 1]\n",
            "  [1 1 1 1 1 1]\n",
            "  [1 1 1 1 1 1]]\n",
            "\n",
            " [[1 1 1 1 1 1]\n",
            "  [1 1 1 1 1 1]\n",
            "  [1 1 1 1 1 1]\n",
            "  [1 1 1 1 1 1]]]\n"
          ]
        }
      ]
    },
    {
      "cell_type": "markdown",
      "source": [
        "# **eye()**\n",
        "\n",
        "\n",
        "\n",
        "*   diagonal elements are 1 remaining are 0\n",
        "* 2/2 mtrix or 4/4 matrix\n",
        "\n"
      ],
      "metadata": {
        "id": "YFhTc4bzZc0d"
      }
    },
    {
      "cell_type": "code",
      "source": [
        "g = np.eye(5)\n",
        "print(g)"
      ],
      "metadata": {
        "colab": {
          "base_uri": "https://localhost:8080/"
        },
        "id": "yxNEDw5GaEcc",
        "outputId": "e7b9a274-28ef-4b0d-ace5-99d86af143ab"
      },
      "execution_count": null,
      "outputs": [
        {
          "output_type": "stream",
          "name": "stdout",
          "text": [
            "[[1. 0. 0. 0. 0.]\n",
            " [0. 1. 0. 0. 0.]\n",
            " [0. 0. 1. 0. 0.]\n",
            " [0. 0. 0. 1. 0.]\n",
            " [0. 0. 0. 0. 1.]]\n"
          ]
        }
      ]
    },
    {
      "cell_type": "code",
      "source": [
        "g1 = np.eye(8)\n",
        "print(g1)"
      ],
      "metadata": {
        "colab": {
          "base_uri": "https://localhost:8080/"
        },
        "id": "GiAOwh-paMsh",
        "outputId": "976b2784-15f9-4e12-edd0-5a162a25fe32"
      },
      "execution_count": null,
      "outputs": [
        {
          "output_type": "stream",
          "name": "stdout",
          "text": [
            "[[1. 0. 0. 0. 0. 0. 0. 0.]\n",
            " [0. 1. 0. 0. 0. 0. 0. 0.]\n",
            " [0. 0. 1. 0. 0. 0. 0. 0.]\n",
            " [0. 0. 0. 1. 0. 0. 0. 0.]\n",
            " [0. 0. 0. 0. 1. 0. 0. 0.]\n",
            " [0. 0. 0. 0. 0. 1. 0. 0.]\n",
            " [0. 0. 0. 0. 0. 0. 1. 0.]\n",
            " [0. 0. 0. 0. 0. 0. 0. 1.]]\n"
          ]
        }
      ]
    },
    {
      "cell_type": "markdown",
      "source": [
        "# **NUMERICAL RANGE**\n",
        "\n",
        "\n",
        "*   arange()\n",
        "*   reshape()\n",
        "*   linspace()\n",
        "*   logspace()\n",
        "\n",
        "values are printed between the given range\n",
        "\n",
        "start stop step (difference)\n",
        "\n",
        "\n"
      ],
      "metadata": {
        "id": "73QL0Tu9aaYU"
      }
    },
    {
      "cell_type": "markdown",
      "source": [
        "# **arange()**"
      ],
      "metadata": {
        "id": "ZlAtopOpbjhJ"
      }
    },
    {
      "cell_type": "code",
      "source": [
        "h = np.arange(30,50,3)\n",
        "print(h)"
      ],
      "metadata": {
        "colab": {
          "base_uri": "https://localhost:8080/"
        },
        "id": "sJk8q5C9bnIl",
        "outputId": "2b2a1f60-59d6-43de-e279-b3def4d71b55"
      },
      "execution_count": null,
      "outputs": [
        {
          "output_type": "stream",
          "name": "stdout",
          "text": [
            "[30 33 36 39 42 45 48]\n"
          ]
        }
      ]
    },
    {
      "cell_type": "code",
      "source": [
        "h1 = np.arange(0,100,5,dtype = float)\n",
        "print(h1)"
      ],
      "metadata": {
        "colab": {
          "base_uri": "https://localhost:8080/"
        },
        "id": "pTEOh416bw-y",
        "outputId": "7f123e0c-87c4-494f-d87b-0cb17a2f0e51"
      },
      "execution_count": null,
      "outputs": [
        {
          "output_type": "stream",
          "name": "stdout",
          "text": [
            "[ 0.  5. 10. 15. 20. 25. 30. 35. 40. 45. 50. 55. 60. 65. 70. 75. 80. 85.\n",
            " 90. 95.]\n"
          ]
        }
      ]
    },
    {
      "cell_type": "code",
      "source": [
        "h2 = np.arange(10,100,5)\n",
        "print(h2)"
      ],
      "metadata": {
        "colab": {
          "base_uri": "https://localhost:8080/"
        },
        "id": "BoD-C2Srb806",
        "outputId": "5c95c2b4-c61a-4fd7-fd6a-231f599002ac"
      },
      "execution_count": null,
      "outputs": [
        {
          "output_type": "stream",
          "name": "stdout",
          "text": [
            "[10 15 20 25 30 35 40 45 50 55 60 65 70 75 80 85 90 95]\n"
          ]
        }
      ]
    },
    {
      "cell_type": "markdown",
      "source": [
        "# **reshape()**\n",
        "\n",
        " equal division matrix"
      ],
      "metadata": {
        "id": "xNwcfgjwggxw"
      }
    },
    {
      "cell_type": "code",
      "source": [
        "a = np.array([[1,2,3,4,5],[6,7,8,9,10]])\n",
        "a.reshape(5,2)"
      ],
      "metadata": {
        "colab": {
          "base_uri": "https://localhost:8080/"
        },
        "id": "iM0yPoAyg5o6",
        "outputId": "1ad70d68-6652-4d2d-bae5-5dab55a7c810"
      },
      "execution_count": null,
      "outputs": [
        {
          "output_type": "execute_result",
          "data": {
            "text/plain": [
              "array([[ 1,  2],\n",
              "       [ 3,  4],\n",
              "       [ 5,  6],\n",
              "       [ 7,  8],\n",
              "       [ 9, 10]])"
            ]
          },
          "metadata": {},
          "execution_count": 36
        }
      ]
    },
    {
      "cell_type": "code",
      "source": [
        "a.reshape(2,5)"
      ],
      "metadata": {
        "colab": {
          "base_uri": "https://localhost:8080/"
        },
        "id": "GlR0zjGOg_A0",
        "outputId": "8c11dab9-166e-4ae6-dfe5-c487aea76923"
      },
      "execution_count": null,
      "outputs": [
        {
          "output_type": "execute_result",
          "data": {
            "text/plain": [
              "array([[ 1,  2,  3,  4,  5],\n",
              "       [ 6,  7,  8,  9, 10]])"
            ]
          },
          "metadata": {},
          "execution_count": 37
        }
      ]
    },
    {
      "cell_type": "code",
      "source": [
        "a.reshape(1,10)"
      ],
      "metadata": {
        "colab": {
          "base_uri": "https://localhost:8080/"
        },
        "id": "b3b3oaG2hywm",
        "outputId": "e6afee0d-d3c2-409e-834f-73fe762f4a11"
      },
      "execution_count": null,
      "outputs": [
        {
          "output_type": "execute_result",
          "data": {
            "text/plain": [
              "array([[ 1,  2,  3,  4,  5,  6,  7,  8,  9, 10]])"
            ]
          },
          "metadata": {},
          "execution_count": 38
        }
      ]
    },
    {
      "cell_type": "code",
      "source": [
        "a.reshape(10,1)"
      ],
      "metadata": {
        "colab": {
          "base_uri": "https://localhost:8080/"
        },
        "id": "y6UqBZ17h5Fe",
        "outputId": "91f65642-89cf-43a0-f535-f57ffe1fe86a"
      },
      "execution_count": null,
      "outputs": [
        {
          "output_type": "execute_result",
          "data": {
            "text/plain": [
              "array([[ 1],\n",
              "       [ 2],\n",
              "       [ 3],\n",
              "       [ 4],\n",
              "       [ 5],\n",
              "       [ 6],\n",
              "       [ 7],\n",
              "       [ 8],\n",
              "       [ 9],\n",
              "       [10]])"
            ]
          },
          "metadata": {},
          "execution_count": 39
        }
      ]
    },
    {
      "cell_type": "code",
      "source": [
        "a = np.linspace(0,100,20,endpoint=False , retstep = True , dtype = int)\n",
        "print(a)"
      ],
      "metadata": {
        "colab": {
          "base_uri": "https://localhost:8080/"
        },
        "id": "BHNswZDnjyMv",
        "outputId": "f70a080f-2a72-4de9-819e-69666e32aa59"
      },
      "execution_count": null,
      "outputs": [
        {
          "output_type": "stream",
          "name": "stdout",
          "text": [
            "(array([ 0,  5, 10, 15, 20, 25, 30, 35, 40, 45, 50, 55, 60, 65, 70, 75, 80,\n",
            "       85, 90, 95]), 5.0)\n"
          ]
        }
      ]
    },
    {
      "cell_type": "markdown",
      "source": [
        "# **linspace()**\n",
        "\n",
        "last element is also considered"
      ],
      "metadata": {
        "id": "MWayLmOKknFr"
      }
    },
    {
      "cell_type": "code",
      "source": [
        "i = np.linspace(10,100,10)\n",
        "print(i)"
      ],
      "metadata": {
        "colab": {
          "base_uri": "https://localhost:8080/"
        },
        "id": "VjkP890Sk71a",
        "outputId": "9096277e-cbde-4aa0-bfd6-bfebf370d487"
      },
      "execution_count": null,
      "outputs": [
        {
          "output_type": "stream",
          "name": "stdout",
          "text": [
            "[ 10.  20.  30.  40.  50.  60.  70.  80.  90. 100.]\n"
          ]
        }
      ]
    },
    {
      "cell_type": "code",
      "source": [
        "i1 = np.linspace(10,100,10,endpoint=False) #equal intervals 10\n",
        "print(i1)"
      ],
      "metadata": {
        "colab": {
          "base_uri": "https://localhost:8080/"
        },
        "id": "6YJZQnyPlDRb",
        "outputId": "7d9a3f98-6ef1-45f1-b080-acee18e7f545"
      },
      "execution_count": null,
      "outputs": [
        {
          "output_type": "stream",
          "name": "stdout",
          "text": [
            "[10. 19. 28. 37. 46. 55. 64. 73. 82. 91.]\n"
          ]
        }
      ]
    },
    {
      "cell_type": "code",
      "source": [
        "i2 = np.linspace(10,100,10,endpoint = False , retstep = True , dtype = int) #equal intervals 10\n",
        "print(i2)"
      ],
      "metadata": {
        "colab": {
          "base_uri": "https://localhost:8080/"
        },
        "id": "1UgRhWT1ldYF",
        "outputId": "96c4aa9c-e972-4ec3-d0d2-c71a1c680d4a"
      },
      "execution_count": null,
      "outputs": [
        {
          "output_type": "stream",
          "name": "stdout",
          "text": [
            "(array([10, 19, 28, 37, 46, 55, 64, 73, 82, 91]), 9.0)\n"
          ]
        }
      ]
    },
    {
      "cell_type": "markdown",
      "source": [
        "# **logspace()**\n",
        "\n",
        "logrithemic values"
      ],
      "metadata": {
        "id": "72hWRrCUmCI4"
      }
    },
    {
      "cell_type": "code",
      "source": [
        "k = np.logspace(1,10,10,base = 2 , dtype = int )\n",
        "print(k)"
      ],
      "metadata": {
        "colab": {
          "base_uri": "https://localhost:8080/"
        },
        "id": "dv4qfEeQl4a1",
        "outputId": "60e8c653-87de-4f0e-e0a2-2fea91daa866"
      },
      "execution_count": null,
      "outputs": [
        {
          "output_type": "stream",
          "name": "stdout",
          "text": [
            "[   2    4    8   16   32   64  128  256  512 1024]\n"
          ]
        }
      ]
    },
    {
      "cell_type": "code",
      "source": [
        "k1 = np.logspace(1,10,10, dtype = int )\n",
        "print(k1)"
      ],
      "metadata": {
        "colab": {
          "base_uri": "https://localhost:8080/"
        },
        "id": "qdK8BfiZmmOf",
        "outputId": "c418fa60-3ff8-4287-dcdc-251fdddcd1c0"
      },
      "execution_count": null,
      "outputs": [
        {
          "output_type": "stream",
          "name": "stdout",
          "text": [
            "[         10         100        1000       10000      100000     1000000\n",
            "    10000000   100000000  1000000000 10000000000]\n"
          ]
        }
      ]
    },
    {
      "cell_type": "markdown",
      "source": [
        "# **ARRAY PROERTIES**\n",
        "\n",
        "#SIZE - np.size(array)\n",
        "#SHAPE - np.shape(array)\n",
        "#DTYPE - a.dtype"
      ],
      "metadata": {
        "id": "m_zDrF1km32o"
      }
    },
    {
      "cell_type": "code",
      "source": [
        "l = np.arange(10,100,10)\n",
        "l"
      ],
      "metadata": {
        "colab": {
          "base_uri": "https://localhost:8080/"
        },
        "id": "fD9N5u0jmwbI",
        "outputId": "b307949b-b4e0-40b5-f4e7-3d3973e137dc"
      },
      "execution_count": null,
      "outputs": [
        {
          "output_type": "execute_result",
          "data": {
            "text/plain": [
              "array([10, 20, 30, 40, 50, 60, 70, 80, 90])"
            ]
          },
          "metadata": {},
          "execution_count": 55
        }
      ]
    },
    {
      "cell_type": "code",
      "source": [
        "l1 = l.reshape(3,3)\n",
        "l1"
      ],
      "metadata": {
        "colab": {
          "base_uri": "https://localhost:8080/"
        },
        "id": "kUN7-HYSnrRi",
        "outputId": "c14f5145-8f78-4d22-c122-a77180cec807"
      },
      "execution_count": null,
      "outputs": [
        {
          "output_type": "execute_result",
          "data": {
            "text/plain": [
              "array([[10, 20, 30],\n",
              "       [40, 50, 60],\n",
              "       [70, 80, 90]])"
            ]
          },
          "metadata": {},
          "execution_count": 56
        }
      ]
    },
    {
      "cell_type": "code",
      "source": [
        "np.size(l1)"
      ],
      "metadata": {
        "colab": {
          "base_uri": "https://localhost:8080/"
        },
        "id": "jp1P8r9nnxg6",
        "outputId": "4fa724cd-9ad2-4783-99ab-31a4f9b80e82"
      },
      "execution_count": null,
      "outputs": [
        {
          "output_type": "execute_result",
          "data": {
            "text/plain": [
              "9"
            ]
          },
          "metadata": {},
          "execution_count": 57
        }
      ]
    },
    {
      "cell_type": "code",
      "source": [
        "l1.dtype"
      ],
      "metadata": {
        "colab": {
          "base_uri": "https://localhost:8080/"
        },
        "id": "0IYeGti-n0ma",
        "outputId": "595bc617-fe5b-4a7d-9997-4c24a3b2ef1b"
      },
      "execution_count": null,
      "outputs": [
        {
          "output_type": "execute_result",
          "data": {
            "text/plain": [
              "dtype('int64')"
            ]
          },
          "metadata": {},
          "execution_count": 60
        }
      ]
    },
    {
      "cell_type": "code",
      "source": [
        "l2 = np.array([10,20,30],dtype = float)\n",
        "print(l2)"
      ],
      "metadata": {
        "colab": {
          "base_uri": "https://localhost:8080/"
        },
        "id": "jiFGyViVn4PK",
        "outputId": "f2e398be-b47d-4743-c76b-4735ac81d5f6"
      },
      "execution_count": null,
      "outputs": [
        {
          "output_type": "stream",
          "name": "stdout",
          "text": [
            "[10. 20. 30.]\n"
          ]
        }
      ]
    },
    {
      "cell_type": "code",
      "source": [
        "l2.dtype"
      ],
      "metadata": {
        "colab": {
          "base_uri": "https://localhost:8080/"
        },
        "id": "ZntIvt2goJkj",
        "outputId": "3260ebee-31bf-4c71-9cc0-f034d3fb4e2f"
      },
      "execution_count": null,
      "outputs": [
        {
          "output_type": "execute_result",
          "data": {
            "text/plain": [
              "dtype('float64')"
            ]
          },
          "metadata": {},
          "execution_count": 63
        }
      ]
    },
    {
      "cell_type": "markdown",
      "source": [
        "# **ARRAY OPERATIONS**\n",
        "\n",
        "\n",
        "*   Accessing the elements\n",
        "*   Slcing -Means extractin some portion of data\n",
        "\n",
        "Accesing and slicing operations\n",
        "\n",
        "\n",
        "\n",
        "\n",
        "\n",
        "1.   concatenate()\n",
        "2.   copy()\n",
        "3. stack()\n",
        "4. view\n",
        "5. vstack()\n",
        "6. sort()\n",
        "7. dstack()\n",
        "8. reshape()\n",
        "9. hstack()\n",
        "10. append()\n",
        "11. split()\n",
        "12. insert()\n",
        "13. where()\n",
        "14. delete()\n",
        "15. searchsorted()\n",
        "\n",
        "\n",
        "\n",
        "\n",
        "\n",
        "\n",
        "\n",
        "\n",
        "\n",
        "\n"
      ],
      "metadata": {
        "id": "-udYI5lDoURp"
      }
    },
    {
      "cell_type": "markdown",
      "source": [
        "# **Accessing and slicing operations**"
      ],
      "metadata": {
        "id": "1WPmXr9SrwQH"
      }
    },
    {
      "cell_type": "code",
      "source": [
        "m = np.array([[23,34,45,56,67,78],[12,13,14,15,16,17]])\n",
        "print(m)"
      ],
      "metadata": {
        "colab": {
          "base_uri": "https://localhost:8080/"
        },
        "id": "XkWmYxnAr4hB",
        "outputId": "5fd05dcc-5d98-4ee7-c7ef-fe2a7d360bc4"
      },
      "execution_count": null,
      "outputs": [
        {
          "output_type": "stream",
          "name": "stdout",
          "text": [
            "[[23 34 45 56 67 78]\n",
            " [12 13 14 15 16 17]]\n"
          ]
        }
      ]
    },
    {
      "cell_type": "code",
      "source": [
        "m[0]"
      ],
      "metadata": {
        "colab": {
          "base_uri": "https://localhost:8080/"
        },
        "id": "E1x__okrsMe2",
        "outputId": "f52ebe3c-6fb1-4da7-da2d-f58507201be4"
      },
      "execution_count": null,
      "outputs": [
        {
          "output_type": "execute_result",
          "data": {
            "text/plain": [
              "array([23, 34, 45, 56, 67, 78])"
            ]
          },
          "metadata": {},
          "execution_count": 45
        }
      ]
    },
    {
      "cell_type": "code",
      "source": [
        "m[1]"
      ],
      "metadata": {
        "colab": {
          "base_uri": "https://localhost:8080/"
        },
        "id": "sUJJX6GbsPp7",
        "outputId": "7c3239c7-17e1-4dfe-f3f3-e7ce29e146fc"
      },
      "execution_count": null,
      "outputs": [
        {
          "output_type": "execute_result",
          "data": {
            "text/plain": [
              "array([12, 13, 14, 15, 16, 17])"
            ]
          },
          "metadata": {},
          "execution_count": 46
        }
      ]
    },
    {
      "cell_type": "code",
      "source": [
        "m[1][4]"
      ],
      "metadata": {
        "colab": {
          "base_uri": "https://localhost:8080/"
        },
        "id": "GT5R_JzosRpr",
        "outputId": "67f89e3f-0f3a-486c-d964-4c141caaf0a8"
      },
      "execution_count": null,
      "outputs": [
        {
          "output_type": "execute_result",
          "data": {
            "text/plain": [
              "16"
            ]
          },
          "metadata": {},
          "execution_count": 47
        }
      ]
    },
    {
      "cell_type": "code",
      "source": [
        "m1 = np.arange(10,200,10)\n",
        "print(m1)"
      ],
      "metadata": {
        "colab": {
          "base_uri": "https://localhost:8080/"
        },
        "id": "pGSCLUDjsYxA",
        "outputId": "1689f79a-de4c-477e-acc7-d0dd8dc1d381"
      },
      "execution_count": null,
      "outputs": [
        {
          "output_type": "stream",
          "name": "stdout",
          "text": [
            "[ 10  20  30  40  50  60  70  80  90 100 110 120 130 140 150 160 170 180\n",
            " 190]\n"
          ]
        }
      ]
    },
    {
      "cell_type": "code",
      "source": [
        "h[5:16]"
      ],
      "metadata": {
        "colab": {
          "base_uri": "https://localhost:8080/"
        },
        "id": "wZdj-O3YslHL",
        "outputId": "e793782e-dee2-46b2-c1f8-95569f311bdb"
      },
      "execution_count": null,
      "outputs": [
        {
          "output_type": "execute_result",
          "data": {
            "text/plain": [
              "array([45, 48])"
            ]
          },
          "metadata": {},
          "execution_count": 49
        }
      ]
    },
    {
      "cell_type": "code",
      "source": [
        "\n",
        "m2 = np.arange(10,3000,10)\n",
        "print(m2)"
      ],
      "metadata": {
        "colab": {
          "base_uri": "https://localhost:8080/"
        },
        "id": "ACc13y7OswFz",
        "outputId": "416578c7-2c82-4f85-b075-2457b272de5e"
      },
      "execution_count": null,
      "outputs": [
        {
          "output_type": "stream",
          "name": "stdout",
          "text": [
            "[  10   20   30   40   50   60   70   80   90  100  110  120  130  140\n",
            "  150  160  170  180  190  200  210  220  230  240  250  260  270  280\n",
            "  290  300  310  320  330  340  350  360  370  380  390  400  410  420\n",
            "  430  440  450  460  470  480  490  500  510  520  530  540  550  560\n",
            "  570  580  590  600  610  620  630  640  650  660  670  680  690  700\n",
            "  710  720  730  740  750  760  770  780  790  800  810  820  830  840\n",
            "  850  860  870  880  890  900  910  920  930  940  950  960  970  980\n",
            "  990 1000 1010 1020 1030 1040 1050 1060 1070 1080 1090 1100 1110 1120\n",
            " 1130 1140 1150 1160 1170 1180 1190 1200 1210 1220 1230 1240 1250 1260\n",
            " 1270 1280 1290 1300 1310 1320 1330 1340 1350 1360 1370 1380 1390 1400\n",
            " 1410 1420 1430 1440 1450 1460 1470 1480 1490 1500 1510 1520 1530 1540\n",
            " 1550 1560 1570 1580 1590 1600 1610 1620 1630 1640 1650 1660 1670 1680\n",
            " 1690 1700 1710 1720 1730 1740 1750 1760 1770 1780 1790 1800 1810 1820\n",
            " 1830 1840 1850 1860 1870 1880 1890 1900 1910 1920 1930 1940 1950 1960\n",
            " 1970 1980 1990 2000 2010 2020 2030 2040 2050 2060 2070 2080 2090 2100\n",
            " 2110 2120 2130 2140 2150 2160 2170 2180 2190 2200 2210 2220 2230 2240\n",
            " 2250 2260 2270 2280 2290 2300 2310 2320 2330 2340 2350 2360 2370 2380\n",
            " 2390 2400 2410 2420 2430 2440 2450 2460 2470 2480 2490 2500 2510 2520\n",
            " 2530 2540 2550 2560 2570 2580 2590 2600 2610 2620 2630 2640 2650 2660\n",
            " 2670 2680 2690 2700 2710 2720 2730 2740 2750 2760 2770 2780 2790 2800\n",
            " 2810 2820 2830 2840 2850 2860 2870 2880 2890 2900 2910 2920 2930 2940\n",
            " 2950 2960 2970 2980 2990]\n"
          ]
        }
      ]
    },
    {
      "cell_type": "code",
      "source": [
        "m2[212:312]"
      ],
      "metadata": {
        "colab": {
          "base_uri": "https://localhost:8080/"
        },
        "id": "g2zAkrlftRiY",
        "outputId": "3fc843e1-7157-4a68-f723-7a6516404c38"
      },
      "execution_count": null,
      "outputs": [
        {
          "output_type": "execute_result",
          "data": {
            "text/plain": [
              "array([2130, 2140, 2150, 2160, 2170, 2180, 2190, 2200, 2210, 2220, 2230,\n",
              "       2240, 2250, 2260, 2270, 2280, 2290, 2300, 2310, 2320, 2330, 2340,\n",
              "       2350, 2360, 2370, 2380, 2390, 2400, 2410, 2420, 2430, 2440, 2450,\n",
              "       2460, 2470, 2480, 2490, 2500, 2510, 2520, 2530, 2540, 2550, 2560,\n",
              "       2570, 2580, 2590, 2600, 2610, 2620, 2630, 2640, 2650, 2660, 2670,\n",
              "       2680, 2690, 2700, 2710, 2720, 2730, 2740, 2750, 2760, 2770, 2780,\n",
              "       2790, 2800, 2810, 2820, 2830, 2840, 2850, 2860, 2870, 2880, 2890,\n",
              "       2900, 2910, 2920, 2930, 2940, 2950, 2960, 2970, 2980, 2990])"
            ]
          },
          "metadata": {},
          "execution_count": 51
        }
      ]
    },
    {
      "cell_type": "markdown",
      "source": [
        "# **copy()**\n",
        "\n",
        "copyng one array eements into another array"
      ],
      "metadata": {
        "id": "2Td9D36UuxQq"
      }
    },
    {
      "cell_type": "code",
      "source": [
        "n = np.array([[234,235,236,237],[123,124,125,126]])\n",
        "print(n)"
      ],
      "metadata": {
        "colab": {
          "base_uri": "https://localhost:8080/"
        },
        "id": "RkhuK13rxhaQ",
        "outputId": "26b1d055-8254-465a-aabe-4424454dacdb"
      },
      "execution_count": null,
      "outputs": [
        {
          "output_type": "stream",
          "name": "stdout",
          "text": [
            "[[234 235 236 237]\n",
            " [123 124 125 126]]\n"
          ]
        }
      ]
    },
    {
      "cell_type": "code",
      "source": [
        "n1 = np.copy(n)\n",
        "print(n1)"
      ],
      "metadata": {
        "colab": {
          "base_uri": "https://localhost:8080/"
        },
        "id": "FT9aAq5bx1u6",
        "outputId": "3a3c6d6b-19bf-4e6c-c8e6-0399f8f15439"
      },
      "execution_count": null,
      "outputs": [
        {
          "output_type": "stream",
          "name": "stdout",
          "text": [
            "[[234 235 236 237]\n",
            " [123 124 125 126]]\n"
          ]
        }
      ]
    },
    {
      "cell_type": "code",
      "source": [
        "print(n,n1)"
      ],
      "metadata": {
        "id": "e9kJCSxHx8es",
        "colab": {
          "base_uri": "https://localhost:8080/"
        },
        "outputId": "8305777a-f815-4829-d5e8-d00e4e8ca1de"
      },
      "execution_count": null,
      "outputs": [
        {
          "output_type": "stream",
          "name": "stdout",
          "text": [
            "[[234 235 236 237]\n",
            " [123 124 125 126]] [[234 235 236 237]\n",
            " [123 124 125 126]]\n"
          ]
        }
      ]
    },
    {
      "cell_type": "markdown",
      "source": [
        "# **view**\n",
        "\n",
        "similiar to copy but acts like a reference"
      ],
      "metadata": {
        "id": "wyyG0ZeZR-ZR"
      }
    },
    {
      "cell_type": "code",
      "source": [
        "n2 = n1.view()\n",
        "print(n2)"
      ],
      "metadata": {
        "colab": {
          "base_uri": "https://localhost:8080/"
        },
        "id": "A2vo22qCRU3G",
        "outputId": "ad06ed8b-e2ab-4420-eac3-4c88b863ab91"
      },
      "execution_count": null,
      "outputs": [
        {
          "output_type": "stream",
          "name": "stdout",
          "text": [
            "[[234 235 236 237]\n",
            " [123 124 125 126]]\n"
          ]
        }
      ]
    },
    {
      "cell_type": "code",
      "source": [
        " print(\"n = \",n)\n",
        " print(\"n1 = \",n)\n",
        " print(\"n2= \",n)"
      ],
      "metadata": {
        "colab": {
          "base_uri": "https://localhost:8080/"
        },
        "id": "gZK5jaARSWam",
        "outputId": "7c8dd98e-a423-4b26-bdfa-d7c1b7db8da3"
      },
      "execution_count": null,
      "outputs": [
        {
          "output_type": "stream",
          "name": "stdout",
          "text": [
            "n =  [[234 235 236 237]\n",
            " [123 124 125 126]]\n",
            "n1 =  [[234 235 236 237]\n",
            " [123 124 125 126]]\n",
            "n2=  [[234 235 236 237]\n",
            " [123 124 125 126]]\n"
          ]
        }
      ]
    },
    {
      "cell_type": "code",
      "source": [
        "n1"
      ],
      "metadata": {
        "colab": {
          "base_uri": "https://localhost:8080/"
        },
        "id": "gk8K-Na4S4hs",
        "outputId": "f9b288bc-8afa-45c3-ee1b-650dbd85d8ff"
      },
      "execution_count": null,
      "outputs": [
        {
          "output_type": "execute_result",
          "data": {
            "text/plain": [
              "array([[234, 235, 236, 237],\n",
              "       [123, 124, 125, 126]])"
            ]
          },
          "metadata": {},
          "execution_count": 57
        }
      ]
    },
    {
      "cell_type": "code",
      "source": [
        "n2"
      ],
      "metadata": {
        "colab": {
          "base_uri": "https://localhost:8080/"
        },
        "id": "9XXIHkotS6Jt",
        "outputId": "548cab19-579d-4504-bd87-aba756487912"
      },
      "execution_count": null,
      "outputs": [
        {
          "output_type": "execute_result",
          "data": {
            "text/plain": [
              "array([[234, 235, 236, 237],\n",
              "       [123, 124, 125, 126]])"
            ]
          },
          "metadata": {},
          "execution_count": 58
        }
      ]
    },
    {
      "cell_type": "code",
      "source": [
        "n[1][2] = 777\n",
        "print(n)"
      ],
      "metadata": {
        "colab": {
          "base_uri": "https://localhost:8080/"
        },
        "id": "Jyw1ielFS9XM",
        "outputId": "44d5078e-f981-4d32-c99e-690e3a3f35f3"
      },
      "execution_count": null,
      "outputs": [
        {
          "output_type": "stream",
          "name": "stdout",
          "text": [
            "[[234 235 236 237]\n",
            " [123 124 777 126]]\n"
          ]
        }
      ]
    },
    {
      "cell_type": "code",
      "source": [
        "n1"
      ],
      "metadata": {
        "colab": {
          "base_uri": "https://localhost:8080/"
        },
        "id": "XQHSOjVqTF3v",
        "outputId": "9b63871c-5843-463c-aa33-ee6f239018bb"
      },
      "execution_count": null,
      "outputs": [
        {
          "output_type": "execute_result",
          "data": {
            "text/plain": [
              "array([[234, 235, 236, 237],\n",
              "       [123, 124, 125, 126]])"
            ]
          },
          "metadata": {},
          "execution_count": 60
        }
      ]
    },
    {
      "cell_type": "code",
      "source": [
        "n1[0][1] = 999\n",
        "n1"
      ],
      "metadata": {
        "colab": {
          "base_uri": "https://localhost:8080/"
        },
        "id": "OkfOPVq2TN5g",
        "outputId": "2ba3ce19-d698-44b0-b322-85cda820683f"
      },
      "execution_count": null,
      "outputs": [
        {
          "output_type": "execute_result",
          "data": {
            "text/plain": [
              "array([[234, 999, 236, 237],\n",
              "       [123, 124, 125, 126]])"
            ]
          },
          "metadata": {},
          "execution_count": 61
        }
      ]
    },
    {
      "cell_type": "code",
      "source": [
        "n2"
      ],
      "metadata": {
        "colab": {
          "base_uri": "https://localhost:8080/"
        },
        "id": "8g2rrX1_TV4A",
        "outputId": "973798fe-ba2c-4c6d-d4e8-40ede2f95083"
      },
      "execution_count": null,
      "outputs": [
        {
          "output_type": "execute_result",
          "data": {
            "text/plain": [
              "array([[234, 999, 236, 237],\n",
              "       [123, 124, 125, 126]])"
            ]
          },
          "metadata": {},
          "execution_count": 62
        }
      ]
    },
    {
      "cell_type": "markdown",
      "source": [
        "# **sort**\n",
        "\n",
        "sorting the elements"
      ],
      "metadata": {
        "id": "wnEe3w7jTd1q"
      }
    },
    {
      "cell_type": "code",
      "source": [
        "a = np.array([4535,5674,7864,9876,1234,5738,2967,2336])\n",
        "print(a)"
      ],
      "metadata": {
        "colab": {
          "base_uri": "https://localhost:8080/"
        },
        "id": "aZcfDHIUTk8s",
        "outputId": "a429eb27-41b8-44c5-8777-f131ce3d0cc5"
      },
      "execution_count": null,
      "outputs": [
        {
          "output_type": "stream",
          "name": "stdout",
          "text": [
            "[4535 5674 7864 9876 1234 5738 2967 2336]\n"
          ]
        }
      ]
    },
    {
      "cell_type": "code",
      "source": [
        "np.sort(a)"
      ],
      "metadata": {
        "colab": {
          "base_uri": "https://localhost:8080/"
        },
        "id": "A5vkmeZ2TypO",
        "outputId": "abf76d0e-2ae3-4364-a3bb-270d7e446243"
      },
      "execution_count": null,
      "outputs": [
        {
          "output_type": "execute_result",
          "data": {
            "text/plain": [
              "array([1234, 2336, 2967, 4535, 5674, 5738, 7864, 9876])"
            ]
          },
          "metadata": {},
          "execution_count": 64
        }
      ]
    },
    {
      "cell_type": "code",
      "source": [
        "a = a.reshape(4,2)\n",
        "print(a)"
      ],
      "metadata": {
        "colab": {
          "base_uri": "https://localhost:8080/"
        },
        "id": "paCcVUPeT3YP",
        "outputId": "eac5d905-fbd3-4667-9b95-ee42ef1968cd"
      },
      "execution_count": null,
      "outputs": [
        {
          "output_type": "stream",
          "name": "stdout",
          "text": [
            "[[4535 5674]\n",
            " [7864 9876]\n",
            " [1234 5738]\n",
            " [2967 2336]]\n"
          ]
        }
      ]
    },
    {
      "cell_type": "code",
      "source": [
        "a = a.reshape(2,4)\n",
        "print(a)"
      ],
      "metadata": {
        "colab": {
          "base_uri": "https://localhost:8080/"
        },
        "id": "d2hpu2jrT8Ne",
        "outputId": "c6a3df91-c3aa-4de4-af5e-2adf78308bef"
      },
      "execution_count": null,
      "outputs": [
        {
          "output_type": "stream",
          "name": "stdout",
          "text": [
            "[[4535 5674 7864 9876]\n",
            " [1234 5738 2967 2336]]\n"
          ]
        }
      ]
    },
    {
      "cell_type": "code",
      "source": [
        "a = a.reshape(8,1)\n",
        "print(a)"
      ],
      "metadata": {
        "colab": {
          "base_uri": "https://localhost:8080/"
        },
        "id": "WxROtwwkUMav",
        "outputId": "031d91a3-da21-490f-f187-d15d41359d67"
      },
      "execution_count": null,
      "outputs": [
        {
          "output_type": "stream",
          "name": "stdout",
          "text": [
            "[[4535]\n",
            " [5674]\n",
            " [7864]\n",
            " [9876]\n",
            " [1234]\n",
            " [5738]\n",
            " [2967]\n",
            " [2336]]\n"
          ]
        }
      ]
    },
    {
      "cell_type": "code",
      "source": [
        "a = a.reshape(1,8)\n",
        "print(a)"
      ],
      "metadata": {
        "colab": {
          "base_uri": "https://localhost:8080/"
        },
        "id": "xS_c2w9gUZe7",
        "outputId": "53fa46f5-9597-4a36-af78-4d46bef03d0c"
      },
      "execution_count": null,
      "outputs": [
        {
          "output_type": "stream",
          "name": "stdout",
          "text": [
            "[[4535 5674 7864 9876 1234 5738 2967 2336]]\n"
          ]
        }
      ]
    },
    {
      "cell_type": "markdown",
      "source": [
        "# **Based on Axis Medium , functions are implemented**\n",
        "\n",
        "\n",
        "\n",
        "1.   Axis : 0 means column wise operations\n",
        "\n",
        "2.   Axis : 1 row column wise operations\n",
        "\n",
        "\n"
      ],
      "metadata": {
        "id": "cPEnPCP4U7pn"
      }
    },
    {
      "cell_type": "code",
      "source": [
        "a = np.array([[234,456,789,123,999,899],[543,654,765,876,987,876]])\n",
        "print(a)"
      ],
      "metadata": {
        "colab": {
          "base_uri": "https://localhost:8080/"
        },
        "id": "OrsMkvdbV_jA",
        "outputId": "67265d20-585a-4f15-f52d-b37bd9217099"
      },
      "execution_count": null,
      "outputs": [
        {
          "output_type": "stream",
          "name": "stdout",
          "text": [
            "[[234 456 789 123 999 899]\n",
            " [543 654 765 876 987 876]]\n"
          ]
        }
      ]
    },
    {
      "cell_type": "code",
      "source": [
        "np.sort(a,axis = 0) #coloumn wise elements are sorted"
      ],
      "metadata": {
        "colab": {
          "base_uri": "https://localhost:8080/"
        },
        "id": "1kXEeC3OWiYN",
        "outputId": "ccfc7a9c-aea0-4406-ba62-29ea61d77208"
      },
      "execution_count": null,
      "outputs": [
        {
          "output_type": "execute_result",
          "data": {
            "text/plain": [
              "array([[234, 456, 765, 123, 987, 876],\n",
              "       [543, 654, 789, 876, 999, 899]])"
            ]
          },
          "metadata": {},
          "execution_count": 70
        }
      ]
    },
    {
      "cell_type": "code",
      "source": [
        "np.sort(a,axis = 1) #row wise elements are sorted"
      ],
      "metadata": {
        "colab": {
          "base_uri": "https://localhost:8080/"
        },
        "id": "gqzlpmDqWzTc",
        "outputId": "97406ca3-0319-41e7-e065-4a5170db92b3"
      },
      "execution_count": null,
      "outputs": [
        {
          "output_type": "execute_result",
          "data": {
            "text/plain": [
              "array([[123, 234, 456, 789, 899, 999],\n",
              "       [543, 654, 765, 876, 876, 987]])"
            ]
          },
          "metadata": {},
          "execution_count": 71
        }
      ]
    },
    {
      "cell_type": "code",
      "source": [],
      "metadata": {
        "id": "9xX0Rv9LXJ_V"
      },
      "execution_count": null,
      "outputs": []
    },
    {
      "cell_type": "markdown",
      "source": [
        "#**In single dimension it will sort automatically**\n",
        "#**In multi Dimension it will be sorted based on Axis**\n",
        "#**If we dont mention anything , by default it takes row wise Axis-Operations**\n"
      ],
      "metadata": {
        "id": "VMIZRm5fXQnS"
      }
    },
    {
      "cell_type": "code",
      "source": [
        "d = np.dtype([('name','S1'),('perc',float)])"
      ],
      "metadata": {
        "id": "u_wEbZBgYYyo"
      },
      "execution_count": null,
      "outputs": []
    },
    {
      "cell_type": "code",
      "source": [
        "marks = np.array([(\"h\",99.8),(\"I\",98.3),(\"a\",99.9)],dtype = d)\n"
      ],
      "metadata": {
        "id": "lpQcAsMsY_lQ"
      },
      "execution_count": null,
      "outputs": []
    },
    {
      "cell_type": "code",
      "source": [
        "marks"
      ],
      "metadata": {
        "colab": {
          "base_uri": "https://localhost:8080/"
        },
        "id": "O2x-t7ggZRn4",
        "outputId": "10bd92c7-368e-4281-8af4-0e81a1f21fff"
      },
      "execution_count": null,
      "outputs": [
        {
          "output_type": "execute_result",
          "data": {
            "text/plain": [
              "array([(b'h', 99.8), (b'I', 98.3), (b'a', 99.9)],\n",
              "      dtype=[('name', 'S1'), ('perc', '<f8')])"
            ]
          },
          "metadata": {},
          "execution_count": 75
        }
      ]
    },
    {
      "cell_type": "code",
      "source": [
        "np.sort(marks , order = \"name\")"
      ],
      "metadata": {
        "colab": {
          "base_uri": "https://localhost:8080/"
        },
        "id": "XyIN33YoZUcK",
        "outputId": "3c5aad24-793b-4722-95d9-1cfecf4cc47d"
      },
      "execution_count": null,
      "outputs": [
        {
          "output_type": "execute_result",
          "data": {
            "text/plain": [
              "array([(b'I', 98.3), (b'a', 99.9), (b'h', 99.8)],\n",
              "      dtype=[('name', 'S1'), ('perc', '<f8')])"
            ]
          },
          "metadata": {},
          "execution_count": 76
        }
      ]
    },
    {
      "cell_type": "code",
      "source": [
        "np.sort(marks , order = \"perc\")"
      ],
      "metadata": {
        "colab": {
          "base_uri": "https://localhost:8080/"
        },
        "id": "BBNfmM4zZ_wn",
        "outputId": "b8efdf8a-57aa-44cf-f663-fb5ba57cf9f4"
      },
      "execution_count": null,
      "outputs": [
        {
          "output_type": "execute_result",
          "data": {
            "text/plain": [
              "array([(b'I', 98.3), (b'h', 99.8), (b'a', 99.9)],\n",
              "      dtype=[('name', 'S1'), ('perc', '<f8')])"
            ]
          },
          "metadata": {},
          "execution_count": 77
        }
      ]
    },
    {
      "cell_type": "markdown",
      "source": [
        "# **reshape**"
      ],
      "metadata": {
        "id": "4P9eLpdPaTrz"
      }
    },
    {
      "cell_type": "code",
      "source": [
        "a = np.array([234,345,456,567,678,789,890,999,111,222,333,345])\n",
        "print(a)"
      ],
      "metadata": {
        "colab": {
          "base_uri": "https://localhost:8080/"
        },
        "id": "m--x3_j8azer",
        "outputId": "263aad2e-281f-4633-cdee-0b57ca80e92b"
      },
      "execution_count": null,
      "outputs": [
        {
          "output_type": "stream",
          "name": "stdout",
          "text": [
            "[234 345 456 567 678 789 890 999 111 222 333 345]\n"
          ]
        }
      ]
    },
    {
      "cell_type": "code",
      "source": [
        "a.reshape(2,6)"
      ],
      "metadata": {
        "colab": {
          "base_uri": "https://localhost:8080/"
        },
        "id": "gJID2Ov7a37_",
        "outputId": "7c5b5823-41c9-4ddc-9d14-d483838b7fcd"
      },
      "execution_count": null,
      "outputs": [
        {
          "output_type": "execute_result",
          "data": {
            "text/plain": [
              "array([[234, 345, 456, 567, 678, 789],\n",
              "       [890, 999, 111, 222, 333, 345]])"
            ]
          },
          "metadata": {},
          "execution_count": 79
        }
      ]
    },
    {
      "cell_type": "code",
      "source": [
        "a = np.arange(20,180,10)\n",
        "print(a)"
      ],
      "metadata": {
        "colab": {
          "base_uri": "https://localhost:8080/"
        },
        "id": "6LykKa8ca7JN",
        "outputId": "f83feebe-64e1-4e3b-cff3-206ab5ae1de6"
      },
      "execution_count": null,
      "outputs": [
        {
          "output_type": "stream",
          "name": "stdout",
          "text": [
            "[ 20  30  40  50  60  70  80  90 100 110 120 130 140 150 160 170]\n"
          ]
        }
      ]
    },
    {
      "cell_type": "code",
      "source": [
        "a.reshape(2,8)"
      ],
      "metadata": {
        "colab": {
          "base_uri": "https://localhost:8080/"
        },
        "id": "UJlohRmPbCyY",
        "outputId": "8c3262ba-6afb-4fc4-dff8-0c2c51ed30de"
      },
      "execution_count": null,
      "outputs": [
        {
          "output_type": "execute_result",
          "data": {
            "text/plain": [
              "array([[ 20,  30,  40,  50,  60,  70,  80,  90],\n",
              "       [100, 110, 120, 130, 140, 150, 160, 170]])"
            ]
          },
          "metadata": {},
          "execution_count": 81
        }
      ]
    },
    {
      "cell_type": "code",
      "source": [
        "a.reshape(8,2)"
      ],
      "metadata": {
        "colab": {
          "base_uri": "https://localhost:8080/"
        },
        "id": "guLxwAh6bKDM",
        "outputId": "b011e40a-df0f-41fd-ceae-158177eb2e9d"
      },
      "execution_count": null,
      "outputs": [
        {
          "output_type": "execute_result",
          "data": {
            "text/plain": [
              "array([[ 20,  30],\n",
              "       [ 40,  50],\n",
              "       [ 60,  70],\n",
              "       [ 80,  90],\n",
              "       [100, 110],\n",
              "       [120, 130],\n",
              "       [140, 150],\n",
              "       [160, 170]])"
            ]
          },
          "metadata": {},
          "execution_count": 82
        }
      ]
    },
    {
      "cell_type": "code",
      "source": [
        "a.reshape(4,4)"
      ],
      "metadata": {
        "colab": {
          "base_uri": "https://localhost:8080/"
        },
        "id": "Yjs3b1f5bNgF",
        "outputId": "8b1e71be-aea2-4e4c-fe57-0ef360278636"
      },
      "execution_count": null,
      "outputs": [
        {
          "output_type": "execute_result",
          "data": {
            "text/plain": [
              "array([[ 20,  30,  40,  50],\n",
              "       [ 60,  70,  80,  90],\n",
              "       [100, 110, 120, 130],\n",
              "       [140, 150, 160, 170]])"
            ]
          },
          "metadata": {},
          "execution_count": 83
        }
      ]
    },
    {
      "cell_type": "code",
      "source": [
        "a.reshape(2,4,2)"
      ],
      "metadata": {
        "colab": {
          "base_uri": "https://localhost:8080/"
        },
        "id": "cfYc88fGbQaP",
        "outputId": "9fb4fe6f-2fd9-4f07-c64b-0a82bde46caf"
      },
      "execution_count": null,
      "outputs": [
        {
          "output_type": "execute_result",
          "data": {
            "text/plain": [
              "array([[[ 20,  30],\n",
              "        [ 40,  50],\n",
              "        [ 60,  70],\n",
              "        [ 80,  90]],\n",
              "\n",
              "       [[100, 110],\n",
              "        [120, 130],\n",
              "        [140, 150],\n",
              "        [160, 170]]])"
            ]
          },
          "metadata": {},
          "execution_count": 84
        }
      ]
    },
    {
      "cell_type": "code",
      "source": [
        "a.reshape(2,2,2,2)"
      ],
      "metadata": {
        "colab": {
          "base_uri": "https://localhost:8080/"
        },
        "id": "VEkEH0OgbUSW",
        "outputId": "8ed36be0-d144-4043-e832-40c80f5cf61c"
      },
      "execution_count": null,
      "outputs": [
        {
          "output_type": "execute_result",
          "data": {
            "text/plain": [
              "array([[[[ 20,  30],\n",
              "         [ 40,  50]],\n",
              "\n",
              "        [[ 60,  70],\n",
              "         [ 80,  90]]],\n",
              "\n",
              "\n",
              "       [[[100, 110],\n",
              "         [120, 130]],\n",
              "\n",
              "        [[140, 150],\n",
              "         [160, 170]]]])"
            ]
          },
          "metadata": {},
          "execution_count": 85
        }
      ]
    },
    {
      "cell_type": "markdown",
      "source": [
        "# **append**\n",
        "\n",
        "append is applied between arrays\n",
        "\n"
      ],
      "metadata": {
        "id": "1BWgqQJTbZ5n"
      }
    },
    {
      "cell_type": "code",
      "source": [
        "a = np.array([234,345,456,567,678,578,789,890,901,122,132,111])\n",
        "print(a)"
      ],
      "metadata": {
        "colab": {
          "base_uri": "https://localhost:8080/"
        },
        "id": "FW_MB8JpbXTJ",
        "outputId": "7e8b96b5-f080-49b7-f5f5-ba1cada720db"
      },
      "execution_count": null,
      "outputs": [
        {
          "output_type": "stream",
          "name": "stdout",
          "text": [
            "[234 345 456 567 678 578 789 890 901 122 132 111]\n"
          ]
        }
      ]
    },
    {
      "cell_type": "code",
      "source": [
        "b = np.array([234,345,456,467,178,878,719,800,911,822,112,111])\n",
        "print(b)\n"
      ],
      "metadata": {
        "colab": {
          "base_uri": "https://localhost:8080/"
        },
        "id": "kxMnCtzkb8tD",
        "outputId": "12345119-647e-418e-bd17-74d4b95e92bc"
      },
      "execution_count": null,
      "outputs": [
        {
          "output_type": "stream",
          "name": "stdout",
          "text": [
            "[234 345 456 467 178 878 719 800 911 822 112 111]\n"
          ]
        }
      ]
    },
    {
      "cell_type": "code",
      "source": [
        "np.append(a,b)"
      ],
      "metadata": {
        "colab": {
          "base_uri": "https://localhost:8080/"
        },
        "id": "Ce2Lmy87cR0t",
        "outputId": "2c403bfd-7f9d-4190-a481-93ed1c7a16c8"
      },
      "execution_count": null,
      "outputs": [
        {
          "output_type": "execute_result",
          "data": {
            "text/plain": [
              "array([234, 345, 456, 567, 678, 578, 789, 890, 901, 122, 132, 111, 234,\n",
              "       345, 456, 467, 178, 878, 719, 800, 911, 822, 112, 111])"
            ]
          },
          "metadata": {},
          "execution_count": 88
        }
      ]
    },
    {
      "cell_type": "code",
      "source": [
        "a = np.array([[234,345,456,567,678,578],[789,890,901,122,132,111]])\n",
        "print(a)"
      ],
      "metadata": {
        "colab": {
          "base_uri": "https://localhost:8080/"
        },
        "id": "7JA_AbKCcZX_",
        "outputId": "fa475b71-da52-495a-c2cd-f252bce51895"
      },
      "execution_count": null,
      "outputs": [
        {
          "output_type": "stream",
          "name": "stdout",
          "text": [
            "[[234 345 456 567 678 578]\n",
            " [789 890 901 122 132 111]]\n"
          ]
        }
      ]
    },
    {
      "cell_type": "code",
      "source": [
        "b = np.array([[134,245,356,467,568,678],[789,890,901,122,232,311]])\n",
        "print(b)"
      ],
      "metadata": {
        "colab": {
          "base_uri": "https://localhost:8080/"
        },
        "id": "ROoHQvtucoGD",
        "outputId": "ca130c4a-0b7f-49c5-855d-e0f2a424251b"
      },
      "execution_count": null,
      "outputs": [
        {
          "output_type": "stream",
          "name": "stdout",
          "text": [
            "[[134 245 356 467 568 678]\n",
            " [789 890 901 122 232 311]]\n"
          ]
        }
      ]
    },
    {
      "cell_type": "code",
      "source": [
        "np.append(a,b) #forms a single dimension array if you are giving mumti dimension array"
      ],
      "metadata": {
        "colab": {
          "base_uri": "https://localhost:8080/"
        },
        "id": "ZAy5KFkhc5ty",
        "outputId": "6f5bb62c-ce05-447a-b27a-d01a20ae7b75"
      },
      "execution_count": null,
      "outputs": [
        {
          "output_type": "execute_result",
          "data": {
            "text/plain": [
              "array([234, 345, 456, 567, 678, 578, 789, 890, 901, 122, 132, 111, 134,\n",
              "       245, 356, 467, 568, 678, 789, 890, 901, 122, 232, 311])"
            ]
          },
          "metadata": {},
          "execution_count": 91
        }
      ]
    },
    {
      "cell_type": "code",
      "source": [
        "np.append(a,b).reshape(6,4)"
      ],
      "metadata": {
        "colab": {
          "base_uri": "https://localhost:8080/"
        },
        "id": "hNwvedFIdIE3",
        "outputId": "06f22e63-f4df-4575-9c5e-fc2e4e7f4168"
      },
      "execution_count": null,
      "outputs": [
        {
          "output_type": "execute_result",
          "data": {
            "text/plain": [
              "array([[234, 345, 456, 567],\n",
              "       [678, 578, 789, 890],\n",
              "       [901, 122, 132, 111],\n",
              "       [134, 245, 356, 467],\n",
              "       [568, 678, 789, 890],\n",
              "       [901, 122, 232, 311]])"
            ]
          },
          "metadata": {},
          "execution_count": 92
        }
      ]
    },
    {
      "cell_type": "code",
      "source": [
        "np.append(a,b).reshape(2,12)"
      ],
      "metadata": {
        "colab": {
          "base_uri": "https://localhost:8080/"
        },
        "id": "6iXYCneydT1R",
        "outputId": "e1485b8d-8e08-4d0e-9b5d-b892d33d6926"
      },
      "execution_count": null,
      "outputs": [
        {
          "output_type": "execute_result",
          "data": {
            "text/plain": [
              "array([[234, 345, 456, 567, 678, 578, 789, 890, 901, 122, 132, 111],\n",
              "       [134, 245, 356, 467, 568, 678, 789, 890, 901, 122, 232, 311]])"
            ]
          },
          "metadata": {},
          "execution_count": 93
        }
      ]
    },
    {
      "cell_type": "code",
      "source": [
        "np.append(a,b).reshape(12,2)"
      ],
      "metadata": {
        "colab": {
          "base_uri": "https://localhost:8080/"
        },
        "id": "sj9a6kWPdrWc",
        "outputId": "354f4e19-9566-4a4d-e682-fc7541c00a07"
      },
      "execution_count": null,
      "outputs": [
        {
          "output_type": "execute_result",
          "data": {
            "text/plain": [
              "array([[234, 345],\n",
              "       [456, 567],\n",
              "       [678, 578],\n",
              "       [789, 890],\n",
              "       [901, 122],\n",
              "       [132, 111],\n",
              "       [134, 245],\n",
              "       [356, 467],\n",
              "       [568, 678],\n",
              "       [789, 890],\n",
              "       [901, 122],\n",
              "       [232, 311]])"
            ]
          },
          "metadata": {},
          "execution_count": 94
        }
      ]
    },
    {
      "cell_type": "code",
      "source": [
        "np.append(a,b).reshape(24,1)"
      ],
      "metadata": {
        "colab": {
          "base_uri": "https://localhost:8080/"
        },
        "id": "dPrl39brdvmf",
        "outputId": "6c23fa87-0f0b-4f99-9f8f-2d14ad684a30"
      },
      "execution_count": null,
      "outputs": [
        {
          "output_type": "execute_result",
          "data": {
            "text/plain": [
              "array([[234],\n",
              "       [345],\n",
              "       [456],\n",
              "       [567],\n",
              "       [678],\n",
              "       [578],\n",
              "       [789],\n",
              "       [890],\n",
              "       [901],\n",
              "       [122],\n",
              "       [132],\n",
              "       [111],\n",
              "       [134],\n",
              "       [245],\n",
              "       [356],\n",
              "       [467],\n",
              "       [568],\n",
              "       [678],\n",
              "       [789],\n",
              "       [890],\n",
              "       [901],\n",
              "       [122],\n",
              "       [232],\n",
              "       [311]])"
            ]
          },
          "metadata": {},
          "execution_count": 95
        }
      ]
    },
    {
      "cell_type": "code",
      "source": [
        "np.append(a,b).reshape(3,4,2)"
      ],
      "metadata": {
        "colab": {
          "base_uri": "https://localhost:8080/"
        },
        "id": "CqQbYOmCd0W8",
        "outputId": "19fc7da3-3b54-43b9-803b-31fbe1234784"
      },
      "execution_count": null,
      "outputs": [
        {
          "output_type": "execute_result",
          "data": {
            "text/plain": [
              "array([[[234, 345],\n",
              "        [456, 567],\n",
              "        [678, 578],\n",
              "        [789, 890]],\n",
              "\n",
              "       [[901, 122],\n",
              "        [132, 111],\n",
              "        [134, 245],\n",
              "        [356, 467]],\n",
              "\n",
              "       [[568, 678],\n",
              "        [789, 890],\n",
              "        [901, 122],\n",
              "        [232, 311]]])"
            ]
          },
          "metadata": {},
          "execution_count": 96
        }
      ]
    },
    {
      "cell_type": "code",
      "source": [
        "np.append(a,b).reshape(4,2,3)"
      ],
      "metadata": {
        "colab": {
          "base_uri": "https://localhost:8080/"
        },
        "id": "q_sIQpBZd42u",
        "outputId": "a725e68a-50d8-4bd9-adf6-6b1edb929cea"
      },
      "execution_count": null,
      "outputs": [
        {
          "output_type": "execute_result",
          "data": {
            "text/plain": [
              "array([[[234, 345, 456],\n",
              "        [567, 678, 578]],\n",
              "\n",
              "       [[789, 890, 901],\n",
              "        [122, 132, 111]],\n",
              "\n",
              "       [[134, 245, 356],\n",
              "        [467, 568, 678]],\n",
              "\n",
              "       [[789, 890, 901],\n",
              "        [122, 232, 311]]])"
            ]
          },
          "metadata": {},
          "execution_count": 97
        }
      ]
    },
    {
      "cell_type": "code",
      "source": [
        "np.append(a,b).reshape(4,3,2)"
      ],
      "metadata": {
        "colab": {
          "base_uri": "https://localhost:8080/"
        },
        "id": "qMxvFfTfd-VP",
        "outputId": "664ed522-3c58-4e7a-be78-2ed748e1d2f6"
      },
      "execution_count": null,
      "outputs": [
        {
          "output_type": "execute_result",
          "data": {
            "text/plain": [
              "array([[[234, 345],\n",
              "        [456, 567],\n",
              "        [678, 578]],\n",
              "\n",
              "       [[789, 890],\n",
              "        [901, 122],\n",
              "        [132, 111]],\n",
              "\n",
              "       [[134, 245],\n",
              "        [356, 467],\n",
              "        [568, 678]],\n",
              "\n",
              "       [[789, 890],\n",
              "        [901, 122],\n",
              "        [232, 311]]])"
            ]
          },
          "metadata": {},
          "execution_count": 98
        }
      ]
    },
    {
      "cell_type": "markdown",
      "source": [
        "# **insert()**\n",
        "\n",
        "\n",
        "1.   insert is also similar to append\n",
        "2.   insert is taken single dimension continuos memory location index array\n",
        "\n"
      ],
      "metadata": {
        "id": "YQ03BRgXeJNW"
      }
    },
    {
      "cell_type": "code",
      "source": [
        "a = np.array([[234,345,456,567,678,789],[543,500,276,564,785,111]])\n",
        "print(a)"
      ],
      "metadata": {
        "id": "nj0L76zteD_w",
        "colab": {
          "base_uri": "https://localhost:8080/"
        },
        "outputId": "d1bc1969-9df2-410f-a27b-f6ca80990327"
      },
      "execution_count": null,
      "outputs": [
        {
          "output_type": "stream",
          "name": "stdout",
          "text": [
            "[[234 345 456 567 678 789]\n",
            " [543 500 276 564 785 111]]\n"
          ]
        }
      ]
    },
    {
      "cell_type": "code",
      "source": [
        "np.insert(a,7,999) #inserting single element"
      ],
      "metadata": {
        "colab": {
          "base_uri": "https://localhost:8080/"
        },
        "id": "jngfGsQo072p",
        "outputId": "ef60c005-7132-4f98-9f12-e68aac243490"
      },
      "execution_count": null,
      "outputs": [
        {
          "output_type": "execute_result",
          "data": {
            "text/plain": [
              "array([234, 345, 456, 567, 678, 789, 543, 999, 500, 276, 564, 785, 111])"
            ]
          },
          "metadata": {},
          "execution_count": 100
        }
      ]
    },
    {
      "cell_type": "code",
      "source": [
        "np.insert(a,7,[999,636,777,234]) #inserting multiple elements\n",
        "#result generated in single dimension only\n",
        "#subscript[] is used for inserting multiple elements"
      ],
      "metadata": {
        "id": "smoJsJKT1-bf",
        "colab": {
          "base_uri": "https://localhost:8080/"
        },
        "outputId": "646baee6-258e-47a7-9708-20880d5bd923"
      },
      "execution_count": null,
      "outputs": [
        {
          "output_type": "execute_result",
          "data": {
            "text/plain": [
              "array([234, 345, 456, 567, 678, 789, 543, 999, 636, 777, 234, 500, 276,\n",
              "       564, 785, 111])"
            ]
          },
          "metadata": {},
          "execution_count": 102
        }
      ]
    },
    {
      "cell_type": "code",
      "source": [
        "np.insert(a,7,[999,654,777,124]).reshape(4,4)"
      ],
      "metadata": {
        "colab": {
          "base_uri": "https://localhost:8080/"
        },
        "id": "HQZRsy-agiG4",
        "outputId": "9dbd745c-29b8-45d0-ab65-6c8036066297"
      },
      "execution_count": null,
      "outputs": [
        {
          "output_type": "execute_result",
          "data": {
            "text/plain": [
              "array([[234, 345, 456, 567],\n",
              "       [678, 789, 543, 999],\n",
              "       [654, 777, 124, 500],\n",
              "       [276, 564, 785, 111]])"
            ]
          },
          "metadata": {},
          "execution_count": 103
        }
      ]
    },
    {
      "cell_type": "code",
      "source": [
        "np.insert(a,7,[999,654,777,124]).reshape(2,4,2)"
      ],
      "metadata": {
        "colab": {
          "base_uri": "https://localhost:8080/"
        },
        "id": "4y2CvlalgsG2",
        "outputId": "4122ebb8-472b-4556-aa50-42d02319e2ea"
      },
      "execution_count": null,
      "outputs": [
        {
          "output_type": "execute_result",
          "data": {
            "text/plain": [
              "array([[[234, 345],\n",
              "        [456, 567],\n",
              "        [678, 789],\n",
              "        [543, 999]],\n",
              "\n",
              "       [[654, 777],\n",
              "        [124, 500],\n",
              "        [276, 564],\n",
              "        [785, 111]]])"
            ]
          },
          "metadata": {},
          "execution_count": 104
        }
      ]
    },
    {
      "cell_type": "code",
      "source": [
        "np.insert(a,7,[999,654,777,124]).reshape(2,2,2,2)"
      ],
      "metadata": {
        "colab": {
          "base_uri": "https://localhost:8080/"
        },
        "id": "vBrmR3LNgySZ",
        "outputId": "393a99ab-badf-4816-b8b0-f3e82feead3d"
      },
      "execution_count": null,
      "outputs": [
        {
          "output_type": "execute_result",
          "data": {
            "text/plain": [
              "array([[[[234, 345],\n",
              "         [456, 567]],\n",
              "\n",
              "        [[678, 789],\n",
              "         [543, 999]]],\n",
              "\n",
              "\n",
              "       [[[654, 777],\n",
              "         [124, 500]],\n",
              "\n",
              "        [[276, 564],\n",
              "         [785, 111]]]])"
            ]
          },
          "metadata": {},
          "execution_count": 105
        }
      ]
    },
    {
      "cell_type": "markdown",
      "source": [
        "# **Delete**()"
      ],
      "metadata": {
        "id": "zl15i-0Jg54y"
      }
    },
    {
      "cell_type": "code",
      "source": [
        "a = np.array([234,345,456,567,678,890,132,434,857,865,111,689])\n",
        "print(a)"
      ],
      "metadata": {
        "colab": {
          "base_uri": "https://localhost:8080/"
        },
        "id": "9eTDZMlHg375",
        "outputId": "f452fcff-5cf2-45ca-c785-4d7d18bb15bc"
      },
      "execution_count": null,
      "outputs": [
        {
          "output_type": "stream",
          "name": "stdout",
          "text": [
            "[234 345 456 567 678 890 132 434 857 865 111 689]\n"
          ]
        }
      ]
    },
    {
      "cell_type": "code",
      "source": [
        "np.delete(a,9)"
      ],
      "metadata": {
        "colab": {
          "base_uri": "https://localhost:8080/"
        },
        "id": "sD-W7oInhf7I",
        "outputId": "74db0b73-73a0-46db-8a10-e6e9792b8efa"
      },
      "execution_count": null,
      "outputs": [
        {
          "output_type": "execute_result",
          "data": {
            "text/plain": [
              "array([234, 345, 456, 567, 678, 890, 132, 434, 857, 111, 689])"
            ]
          },
          "metadata": {},
          "execution_count": 107
        }
      ]
    },
    {
      "cell_type": "code",
      "source": [
        "a = np.array([[234,345,456,567,678,890],[132,434,857,865,111,689]])\n",
        "print(a)\n"
      ],
      "metadata": {
        "colab": {
          "base_uri": "https://localhost:8080/"
        },
        "id": "5UFyJAKJhjcK",
        "outputId": "64d00806-9da4-45f2-e66d-19d4eca6dd88"
      },
      "execution_count": null,
      "outputs": [
        {
          "output_type": "stream",
          "name": "stdout",
          "text": [
            "[[234 345 456 567 678 890]\n",
            " [132 434 857 865 111 689]]\n"
          ]
        }
      ]
    },
    {
      "cell_type": "code",
      "source": [
        "np.delete(a,6)"
      ],
      "metadata": {
        "colab": {
          "base_uri": "https://localhost:8080/"
        },
        "id": "CR8Syz3ChwDp",
        "outputId": "5f4fcfa1-aa8a-42a6-a5a6-791f3aed7246"
      },
      "execution_count": null,
      "outputs": [
        {
          "output_type": "execute_result",
          "data": {
            "text/plain": [
              "array([234, 345, 456, 567, 678, 890, 434, 857, 865, 111, 689])"
            ]
          },
          "metadata": {},
          "execution_count": 109
        }
      ]
    },
    {
      "cell_type": "markdown",
      "source": [
        "# **concatenate**()\n",
        "\n",
        "two different arrays are concatenated"
      ],
      "metadata": {
        "id": "P73x5lVJh5mJ"
      }
    },
    {
      "cell_type": "code",
      "source": [
        "a = np.array([234,345,456,567,678,890,132,434,857,865,111,689])\n",
        "a"
      ],
      "metadata": {
        "colab": {
          "base_uri": "https://localhost:8080/"
        },
        "id": "QxYRFKxqh3GS",
        "outputId": "96b3808d-cdd0-4d08-d346-992b8a3bfec4"
      },
      "execution_count": null,
      "outputs": [
        {
          "output_type": "execute_result",
          "data": {
            "text/plain": [
              "array([234, 345, 456, 567, 678, 890, 132, 434, 857, 865, 111, 689])"
            ]
          },
          "metadata": {},
          "execution_count": 110
        }
      ]
    },
    {
      "cell_type": "code",
      "source": [
        "b = np.array([235,145,444,927,446,990,113,111,850,405,420,699])\n",
        "b"
      ],
      "metadata": {
        "colab": {
          "base_uri": "https://localhost:8080/"
        },
        "id": "Q9aqfQWniJ-P",
        "outputId": "e0cecc4f-53c3-4bf1-849d-81e689ad58f6"
      },
      "execution_count": null,
      "outputs": [
        {
          "output_type": "execute_result",
          "data": {
            "text/plain": [
              "array([235, 145, 444, 927, 446, 990, 113, 111, 850, 405, 420, 699])"
            ]
          },
          "metadata": {},
          "execution_count": 111
        }
      ]
    },
    {
      "cell_type": "code",
      "source": [
        "np.concatenate((a,b)) # all elements will be in one dimension only"
      ],
      "metadata": {
        "colab": {
          "base_uri": "https://localhost:8080/"
        },
        "id": "zo4b21cmie0a",
        "outputId": "f8ce447e-b8a3-42a5-b68a-f8a8e9eafda0"
      },
      "execution_count": null,
      "outputs": [
        {
          "output_type": "execute_result",
          "data": {
            "text/plain": [
              "array([234, 345, 456, 567, 678, 890, 132, 434, 857, 865, 111, 689, 235,\n",
              "       145, 444, 927, 446, 990, 113, 111, 850, 405, 420, 699])"
            ]
          },
          "metadata": {},
          "execution_count": 112
        }
      ]
    },
    {
      "cell_type": "code",
      "source": [
        "np.concatenate((a,b),axis=0) # row wise concatenation"
      ],
      "metadata": {
        "colab": {
          "base_uri": "https://localhost:8080/"
        },
        "id": "SjRumYPgiqem",
        "outputId": "b7dacfed-f683-4b9f-c501-f4c314c2b7f1"
      },
      "execution_count": null,
      "outputs": [
        {
          "output_type": "execute_result",
          "data": {
            "text/plain": [
              "array([234, 345, 456, 567, 678, 890, 132, 434, 857, 865, 111, 689, 235,\n",
              "       145, 444, 927, 446, 990, 113, 111, 850, 405, 420, 699])"
            ]
          },
          "metadata": {},
          "execution_count": 113
        }
      ]
    },
    {
      "cell_type": "markdown",
      "source": [
        "# **stack**()\n",
        "\n",
        "# **vstack**()\n",
        "\n",
        "# **hstack**()\n",
        "\n",
        "# **dstack**()\n",
        "\n",
        "these are all used for joining arrays"
      ],
      "metadata": {
        "id": "4nrGpF8FkGID"
      }
    },
    {
      "cell_type": "code",
      "source": [
        "a = np.array([234,345,456,567,678,890,132,434,857,865,111,689])\n",
        "print(a)"
      ],
      "metadata": {
        "colab": {
          "base_uri": "https://localhost:8080/"
        },
        "id": "Hw3ZRl9ii4aX",
        "outputId": "891cd42b-3b0e-4eb7-e218-a307902e919b"
      },
      "execution_count": null,
      "outputs": [
        {
          "output_type": "stream",
          "name": "stdout",
          "text": [
            "[234 345 456 567 678 890 132 434 857 865 111 689]\n"
          ]
        }
      ]
    },
    {
      "cell_type": "code",
      "source": [
        "b = np.array([235,145,444,927,446,990,113,111,850,405,420,699])\n",
        "print(b)"
      ],
      "metadata": {
        "colab": {
          "base_uri": "https://localhost:8080/"
        },
        "id": "lXC16pFUkrR1",
        "outputId": "887d2525-cb80-4057-caf1-296d5e74d604"
      },
      "execution_count": null,
      "outputs": [
        {
          "output_type": "stream",
          "name": "stdout",
          "text": [
            "[235 145 444 927 446 990 113 111 850 405 420 699]\n"
          ]
        }
      ]
    },
    {
      "cell_type": "code",
      "source": [
        "np.stack((a,b))\n",
        "# stack seperates two array elements but concatebnation not seperated the array elements"
      ],
      "metadata": {
        "colab": {
          "base_uri": "https://localhost:8080/"
        },
        "id": "ck2ds_R5lK5X",
        "outputId": "0b6ec675-3951-460e-da78-f718d181dbb0"
      },
      "execution_count": null,
      "outputs": [
        {
          "output_type": "execute_result",
          "data": {
            "text/plain": [
              "array([[234, 345, 456, 567, 678, 890, 132, 434, 857, 865, 111, 689],\n",
              "       [235, 145, 444, 927, 446, 990, 113, 111, 850, 405, 420, 699]])"
            ]
          },
          "metadata": {},
          "execution_count": 116
        }
      ]
    },
    {
      "cell_type": "code",
      "source": [
        "res = np.stack((a,b))\n",
        "res\n"
      ],
      "metadata": {
        "colab": {
          "base_uri": "https://localhost:8080/"
        },
        "id": "C5U1oZ-2lOKJ",
        "outputId": "5210ddb4-0ee2-4131-ac8a-e87d0011f065"
      },
      "execution_count": null,
      "outputs": [
        {
          "output_type": "execute_result",
          "data": {
            "text/plain": [
              "array([[234, 345, 456, 567, 678, 890, 132, 434, 857, 865, 111, 689],\n",
              "       [235, 145, 444, 927, 446, 990, 113, 111, 850, 405, 420, 699]])"
            ]
          },
          "metadata": {},
          "execution_count": 117
        }
      ]
    },
    {
      "cell_type": "code",
      "source": [
        "res[0]"
      ],
      "metadata": {
        "colab": {
          "base_uri": "https://localhost:8080/"
        },
        "id": "nD_-NU-DlgAe",
        "outputId": "014f254d-2515-405d-b10c-3b3d4f85ea1a"
      },
      "execution_count": null,
      "outputs": [
        {
          "output_type": "execute_result",
          "data": {
            "text/plain": [
              "array([234, 345, 456, 567, 678, 890, 132, 434, 857, 865, 111, 689])"
            ]
          },
          "metadata": {},
          "execution_count": 118
        }
      ]
    },
    {
      "cell_type": "code",
      "source": [
        "res[1]"
      ],
      "metadata": {
        "colab": {
          "base_uri": "https://localhost:8080/"
        },
        "id": "a98bvcJNlkyr",
        "outputId": "e8a4c059-d091-4dc7-e574-603123fe0781"
      },
      "execution_count": null,
      "outputs": [
        {
          "output_type": "execute_result",
          "data": {
            "text/plain": [
              "array([235, 145, 444, 927, 446, 990, 113, 111, 850, 405, 420, 699])"
            ]
          },
          "metadata": {},
          "execution_count": 119
        }
      ]
    },
    {
      "cell_type": "code",
      "source": [
        "res1 = np.concatenate((a,b))"
      ],
      "metadata": {
        "id": "DW9SDjpdlnLh"
      },
      "execution_count": null,
      "outputs": []
    },
    {
      "cell_type": "code",
      "source": [
        "res1"
      ],
      "metadata": {
        "colab": {
          "base_uri": "https://localhost:8080/"
        },
        "id": "2RiJfL8Dl0rK",
        "outputId": "81a97dc7-4459-447d-a66b-4b4ff54eb415"
      },
      "execution_count": null,
      "outputs": [
        {
          "output_type": "execute_result",
          "data": {
            "text/plain": [
              "array([234, 345, 456, 567, 678, 890, 132, 434, 857, 865, 111, 689, 235,\n",
              "       145, 444, 927, 446, 990, 113, 111, 850, 405, 420, 699])"
            ]
          },
          "metadata": {},
          "execution_count": 121
        }
      ]
    },
    {
      "cell_type": "code",
      "source": [
        "res1[9]"
      ],
      "metadata": {
        "colab": {
          "base_uri": "https://localhost:8080/"
        },
        "id": "On5foG_fl3Ah",
        "outputId": "56b2a5de-ea31-46ce-89e2-438b7769f4f7"
      },
      "execution_count": null,
      "outputs": [
        {
          "output_type": "execute_result",
          "data": {
            "text/plain": [
              "865"
            ]
          },
          "metadata": {},
          "execution_count": 122
        }
      ]
    },
    {
      "cell_type": "code",
      "source": [
        "np.stack((a,b),axis = 1) # first row of a and first row of b form an array\n"
      ],
      "metadata": {
        "colab": {
          "base_uri": "https://localhost:8080/"
        },
        "id": "x5oZoShdl7ri",
        "outputId": "f4b09963-09e5-4ec2-d10d-9daacf662531"
      },
      "execution_count": null,
      "outputs": [
        {
          "output_type": "execute_result",
          "data": {
            "text/plain": [
              "array([[234, 235],\n",
              "       [345, 145],\n",
              "       [456, 444],\n",
              "       [567, 927],\n",
              "       [678, 446],\n",
              "       [890, 990],\n",
              "       [132, 113],\n",
              "       [434, 111],\n",
              "       [857, 850],\n",
              "       [865, 405],\n",
              "       [111, 420],\n",
              "       [689, 699]])"
            ]
          },
          "metadata": {},
          "execution_count": 123
        }
      ]
    },
    {
      "cell_type": "code",
      "source": [
        "np.stack((a,b),axis = 0)\n"
      ],
      "metadata": {
        "colab": {
          "base_uri": "https://localhost:8080/"
        },
        "id": "H_v_ecc8mDGB",
        "outputId": "98db82d6-5054-4c67-f80f-003aa0daea53"
      },
      "execution_count": null,
      "outputs": [
        {
          "output_type": "execute_result",
          "data": {
            "text/plain": [
              "array([[234, 345, 456, 567, 678, 890, 132, 434, 857, 865, 111, 689],\n",
              "       [235, 145, 444, 927, 446, 990, 113, 111, 850, 405, 420, 699]])"
            ]
          },
          "metadata": {},
          "execution_count": 124
        }
      ]
    },
    {
      "cell_type": "markdown",
      "source": [
        "# **vstack**()\n",
        "\n",
        "Vertical stack"
      ],
      "metadata": {
        "id": "bo1RuW41npHy"
      }
    },
    {
      "cell_type": "code",
      "source": [
        "a = np.array([[10,20],[30,40]])\n",
        "a"
      ],
      "metadata": {
        "colab": {
          "base_uri": "https://localhost:8080/"
        },
        "id": "BTDWneHFnmMf",
        "outputId": "1be42fb8-8a65-47e2-9665-eb79a899034e"
      },
      "execution_count": null,
      "outputs": [
        {
          "output_type": "execute_result",
          "data": {
            "text/plain": [
              "array([[10, 20],\n",
              "       [30, 40]])"
            ]
          },
          "metadata": {},
          "execution_count": 125
        }
      ]
    },
    {
      "cell_type": "code",
      "source": [
        "b = np.array([[50,60],[70,80]])\n",
        "b"
      ],
      "metadata": {
        "colab": {
          "base_uri": "https://localhost:8080/"
        },
        "id": "c3SsfDSjn4sT",
        "outputId": "1770dc40-cedd-4040-aa4e-577c0ed65efa"
      },
      "execution_count": null,
      "outputs": [
        {
          "output_type": "execute_result",
          "data": {
            "text/plain": [
              "array([[50, 60],\n",
              "       [70, 80]])"
            ]
          },
          "metadata": {},
          "execution_count": 126
        }
      ]
    },
    {
      "cell_type": "code",
      "source": [
        "np.vstack((a,b))"
      ],
      "metadata": {
        "colab": {
          "base_uri": "https://localhost:8080/"
        },
        "id": "_BAGi6b7n_kM",
        "outputId": "172fdbc1-3b0f-4db4-c876-eac6c670df73"
      },
      "execution_count": null,
      "outputs": [
        {
          "output_type": "execute_result",
          "data": {
            "text/plain": [
              "array([[10, 20],\n",
              "       [30, 40],\n",
              "       [50, 60],\n",
              "       [70, 80]])"
            ]
          },
          "metadata": {},
          "execution_count": 127
        }
      ]
    },
    {
      "cell_type": "markdown",
      "source": [
        "# **hstack**()\n",
        "\n",
        "horizontal stack"
      ],
      "metadata": {
        "id": "ISipYPhtoFsa"
      }
    },
    {
      "cell_type": "code",
      "source": [
        "np.hstack((a,b)) #concatenation w.r.t. axis = 1"
      ],
      "metadata": {
        "colab": {
          "base_uri": "https://localhost:8080/"
        },
        "id": "ykIVv6b9oDsj",
        "outputId": "a2084491-9862-46a2-da28-d74c7219ef54"
      },
      "execution_count": null,
      "outputs": [
        {
          "output_type": "execute_result",
          "data": {
            "text/plain": [
              "array([[10, 20, 50, 60],\n",
              "       [30, 40, 70, 80]])"
            ]
          },
          "metadata": {},
          "execution_count": 128
        }
      ]
    },
    {
      "cell_type": "code",
      "source": [
        "np.concatenate((a,b))"
      ],
      "metadata": {
        "colab": {
          "base_uri": "https://localhost:8080/"
        },
        "id": "8lx9xiSsoPoy",
        "outputId": "2edd5826-efd2-45ef-e48d-dc0f80961c79"
      },
      "execution_count": null,
      "outputs": [
        {
          "output_type": "execute_result",
          "data": {
            "text/plain": [
              "array([[10, 20],\n",
              "       [30, 40],\n",
              "       [50, 60],\n",
              "       [70, 80]])"
            ]
          },
          "metadata": {},
          "execution_count": 129
        }
      ]
    },
    {
      "cell_type": "code",
      "source": [
        "np.concatenate((a,b),axis = 1)"
      ],
      "metadata": {
        "colab": {
          "base_uri": "https://localhost:8080/"
        },
        "id": "DEwigJ_8ocxc",
        "outputId": "960df053-5721-4268-8de2-82c372cd10e2"
      },
      "execution_count": null,
      "outputs": [
        {
          "output_type": "execute_result",
          "data": {
            "text/plain": [
              "array([[10, 20, 50, 60],\n",
              "       [30, 40, 70, 80]])"
            ]
          },
          "metadata": {},
          "execution_count": 130
        }
      ]
    },
    {
      "cell_type": "markdown",
      "source": [
        "# **Depth wise**\n",
        "\n",
        "# **dstack**()"
      ],
      "metadata": {
        "id": "Hj3QmhhFoo-O"
      }
    },
    {
      "cell_type": "code",
      "source": [
        "a = np.array([[10,20],[30,40]])\n",
        "a"
      ],
      "metadata": {
        "colab": {
          "base_uri": "https://localhost:8080/"
        },
        "id": "zv-C1xYnolcV",
        "outputId": "b21a5d43-0c5f-4b31-ce9d-7d7c85d68879"
      },
      "execution_count": null,
      "outputs": [
        {
          "output_type": "execute_result",
          "data": {
            "text/plain": [
              "array([[10, 20],\n",
              "       [30, 40]])"
            ]
          },
          "metadata": {},
          "execution_count": 131
        }
      ]
    },
    {
      "cell_type": "code",
      "source": [
        "b = np.array([[50,60],[70,80]])\n",
        "b"
      ],
      "metadata": {
        "colab": {
          "base_uri": "https://localhost:8080/"
        },
        "id": "H2UuhCclo3Vi",
        "outputId": "5b994b35-186b-4dbd-faca-ea9ac9c6a515"
      },
      "execution_count": null,
      "outputs": [
        {
          "output_type": "execute_result",
          "data": {
            "text/plain": [
              "array([[50, 60],\n",
              "       [70, 80]])"
            ]
          },
          "metadata": {},
          "execution_count": 132
        }
      ]
    },
    {
      "cell_type": "code",
      "source": [
        "np.dstack((a,b))"
      ],
      "metadata": {
        "colab": {
          "base_uri": "https://localhost:8080/"
        },
        "id": "e1j6eKpqo6hP",
        "outputId": "5bbc94c1-c88c-4271-fc4e-070326c1b90c"
      },
      "execution_count": null,
      "outputs": [
        {
          "output_type": "execute_result",
          "data": {
            "text/plain": [
              "array([[[10, 50],\n",
              "        [20, 60]],\n",
              "\n",
              "       [[30, 70],\n",
              "        [40, 80]]])"
            ]
          },
          "metadata": {},
          "execution_count": 133
        }
      ]
    },
    {
      "cell_type": "markdown",
      "source": [
        "# **split()**"
      ],
      "metadata": {
        "id": "ctbs_eNmpBVD"
      }
    },
    {
      "cell_type": "code",
      "source": [
        "x = np.arange(5,60,2)\n",
        "print(x)"
      ],
      "metadata": {
        "colab": {
          "base_uri": "https://localhost:8080/"
        },
        "id": "XdVLzvvEo-rA",
        "outputId": "7705d9ee-88b9-4c3c-87ca-6f6b4884d2a4"
      },
      "execution_count": null,
      "outputs": [
        {
          "output_type": "stream",
          "name": "stdout",
          "text": [
            "[ 5  7  9 11 13 15 17 19 21 23 25 27 29 31 33 35 37 39 41 43 45 47 49 51\n",
            " 53 55 57 59]\n"
          ]
        }
      ]
    },
    {
      "cell_type": "code",
      "source": [
        "np.split(x,7) #equal divisions"
      ],
      "metadata": {
        "colab": {
          "base_uri": "https://localhost:8080/"
        },
        "id": "HDmr_CqXpQnZ",
        "outputId": "3d114251-412f-4f3c-d9af-17cab67fdb1b"
      },
      "execution_count": null,
      "outputs": [
        {
          "output_type": "execute_result",
          "data": {
            "text/plain": [
              "[array([ 5,  7,  9, 11]),\n",
              " array([13, 15, 17, 19]),\n",
              " array([21, 23, 25, 27]),\n",
              " array([29, 31, 33, 35]),\n",
              " array([37, 39, 41, 43]),\n",
              " array([45, 47, 49, 51]),\n",
              " array([53, 55, 57, 59])]"
            ]
          },
          "metadata": {},
          "execution_count": 135
        }
      ]
    },
    {
      "cell_type": "code",
      "source": [
        "np.split(x,2)"
      ],
      "metadata": {
        "colab": {
          "base_uri": "https://localhost:8080/"
        },
        "id": "RtUbXsi4pVd-",
        "outputId": "cef769bb-de2a-4936-80d9-f5e2121a41b9"
      },
      "execution_count": null,
      "outputs": [
        {
          "output_type": "execute_result",
          "data": {
            "text/plain": [
              "[array([ 5,  7,  9, 11, 13, 15, 17, 19, 21, 23, 25, 27, 29, 31]),\n",
              " array([33, 35, 37, 39, 41, 43, 45, 47, 49, 51, 53, 55, 57, 59])]"
            ]
          },
          "metadata": {},
          "execution_count": 136
        }
      ]
    },
    {
      "cell_type": "code",
      "source": [
        "np.split(x,14)"
      ],
      "metadata": {
        "colab": {
          "base_uri": "https://localhost:8080/"
        },
        "id": "3zwwD5DYpZZU",
        "outputId": "f66bda29-795d-490d-8700-4166eb4c044c"
      },
      "execution_count": null,
      "outputs": [
        {
          "output_type": "execute_result",
          "data": {
            "text/plain": [
              "[array([5, 7]),\n",
              " array([ 9, 11]),\n",
              " array([13, 15]),\n",
              " array([17, 19]),\n",
              " array([21, 23]),\n",
              " array([25, 27]),\n",
              " array([29, 31]),\n",
              " array([33, 35]),\n",
              " array([37, 39]),\n",
              " array([41, 43]),\n",
              " array([45, 47]),\n",
              " array([49, 51]),\n",
              " array([53, 55]),\n",
              " array([57, 59])]"
            ]
          },
          "metadata": {},
          "execution_count": 137
        }
      ]
    },
    {
      "cell_type": "code",
      "source": [
        "np.split(x,7)"
      ],
      "metadata": {
        "colab": {
          "base_uri": "https://localhost:8080/"
        },
        "id": "bxPmZjsupe-q",
        "outputId": "4c9834fa-2308-4cce-855b-b32e7a75ab18"
      },
      "execution_count": null,
      "outputs": [
        {
          "output_type": "execute_result",
          "data": {
            "text/plain": [
              "[array([ 5,  7,  9, 11]),\n",
              " array([13, 15, 17, 19]),\n",
              " array([21, 23, 25, 27]),\n",
              " array([29, 31, 33, 35]),\n",
              " array([37, 39, 41, 43]),\n",
              " array([45, 47, 49, 51]),\n",
              " array([53, 55, 57, 59])]"
            ]
          },
          "metadata": {},
          "execution_count": 138
        }
      ]
    },
    {
      "cell_type": "code",
      "source": [
        "z = np.split(x,7)\n",
        "print(z)"
      ],
      "metadata": {
        "colab": {
          "base_uri": "https://localhost:8080/"
        },
        "id": "X_x2j543plBT",
        "outputId": "f21be2e0-c7e3-4ded-cd48-cf95e21878c6"
      },
      "execution_count": null,
      "outputs": [
        {
          "output_type": "stream",
          "name": "stdout",
          "text": [
            "[array([ 5,  7,  9, 11]), array([13, 15, 17, 19]), array([21, 23, 25, 27]), array([29, 31, 33, 35]), array([37, 39, 41, 43]), array([45, 47, 49, 51]), array([53, 55, 57, 59])]\n"
          ]
        }
      ]
    },
    {
      "cell_type": "code",
      "source": [
        "s1,s2,s3,s4,s5,s6,s7 = np.split(x,7)  #equal divisions"
      ],
      "metadata": {
        "id": "8Iy4ZuTeprfl"
      },
      "execution_count": null,
      "outputs": []
    },
    {
      "cell_type": "code",
      "source": [
        "s1"
      ],
      "metadata": {
        "colab": {
          "base_uri": "https://localhost:8080/"
        },
        "id": "MOkli9mDp2TM",
        "outputId": "3818336d-d4a6-4458-bef6-190b6966d3fb"
      },
      "execution_count": null,
      "outputs": [
        {
          "output_type": "execute_result",
          "data": {
            "text/plain": [
              "array([ 5,  7,  9, 11])"
            ]
          },
          "metadata": {},
          "execution_count": 141
        }
      ]
    },
    {
      "cell_type": "code",
      "source": [
        "s2"
      ],
      "metadata": {
        "colab": {
          "base_uri": "https://localhost:8080/"
        },
        "id": "RS6aCme9p3iN",
        "outputId": "33a48bfd-781c-4c2a-a6e2-caf6228aa7e3"
      },
      "execution_count": null,
      "outputs": [
        {
          "output_type": "execute_result",
          "data": {
            "text/plain": [
              "array([13, 15, 17, 19])"
            ]
          },
          "metadata": {},
          "execution_count": 142
        }
      ]
    },
    {
      "cell_type": "code",
      "source": [
        "s3"
      ],
      "metadata": {
        "colab": {
          "base_uri": "https://localhost:8080/"
        },
        "id": "SVAjMWCnp4mV",
        "outputId": "6cd5a3b8-515a-494e-b1e6-83fe4efbdaa9"
      },
      "execution_count": null,
      "outputs": [
        {
          "output_type": "execute_result",
          "data": {
            "text/plain": [
              "array([21, 23, 25, 27])"
            ]
          },
          "metadata": {},
          "execution_count": 143
        }
      ]
    },
    {
      "cell_type": "code",
      "source": [
        "s4"
      ],
      "metadata": {
        "colab": {
          "base_uri": "https://localhost:8080/"
        },
        "id": "6vphtDELp5dG",
        "outputId": "57778e30-0d2a-4a9c-9f48-6ba473acea6f"
      },
      "execution_count": null,
      "outputs": [
        {
          "output_type": "execute_result",
          "data": {
            "text/plain": [
              "array([29, 31, 33, 35])"
            ]
          },
          "metadata": {},
          "execution_count": 144
        }
      ]
    },
    {
      "cell_type": "code",
      "source": [
        "s5"
      ],
      "metadata": {
        "colab": {
          "base_uri": "https://localhost:8080/"
        },
        "id": "WxIwEKORp56z",
        "outputId": "3542e3c1-cce2-4838-eda1-0b69686da529"
      },
      "execution_count": null,
      "outputs": [
        {
          "output_type": "execute_result",
          "data": {
            "text/plain": [
              "array([37, 39, 41, 43])"
            ]
          },
          "metadata": {},
          "execution_count": 145
        }
      ]
    },
    {
      "cell_type": "code",
      "source": [
        "s6"
      ],
      "metadata": {
        "colab": {
          "base_uri": "https://localhost:8080/"
        },
        "id": "ykCxT8wTp6RV",
        "outputId": "277ec401-d8d6-4d82-e655-b2d4fa0e326e"
      },
      "execution_count": null,
      "outputs": [
        {
          "output_type": "execute_result",
          "data": {
            "text/plain": [
              "array([45, 47, 49, 51])"
            ]
          },
          "metadata": {},
          "execution_count": 146
        }
      ]
    },
    {
      "cell_type": "code",
      "source": [
        "s7"
      ],
      "metadata": {
        "colab": {
          "base_uri": "https://localhost:8080/"
        },
        "id": "CxLc6rlhp6lM",
        "outputId": "9a7c1ff5-9a51-434e-87b9-2d894fbcb666"
      },
      "execution_count": null,
      "outputs": [
        {
          "output_type": "execute_result",
          "data": {
            "text/plain": [
              "array([53, 55, 57, 59])"
            ]
          },
          "metadata": {},
          "execution_count": 147
        }
      ]
    },
    {
      "cell_type": "markdown",
      "source": [
        "# **where**()\n",
        "\n",
        "it checks wether theelements are present in the array or not"
      ],
      "metadata": {
        "id": "B-GFkZ16qFU-"
      }
    },
    {
      "cell_type": "code",
      "source": [
        "a"
      ],
      "metadata": {
        "colab": {
          "base_uri": "https://localhost:8080/"
        },
        "id": "dz_aD2eDqLCy",
        "outputId": "7aff3388-2bd5-4f35-ebd5-42ae4edf6db0"
      },
      "execution_count": null,
      "outputs": [
        {
          "output_type": "execute_result",
          "data": {
            "text/plain": [
              "array([[10, 20],\n",
              "       [30, 40]])"
            ]
          },
          "metadata": {},
          "execution_count": 148
        }
      ]
    },
    {
      "cell_type": "code",
      "source": [
        "a = np.arange(5,65,5).reshape(4,3)\n",
        "a"
      ],
      "metadata": {
        "colab": {
          "base_uri": "https://localhost:8080/"
        },
        "id": "6kwO4RtMqXd1",
        "outputId": "fb3ebd5a-0992-4b32-cdfe-3cc5f85c8996"
      },
      "execution_count": null,
      "outputs": [
        {
          "output_type": "execute_result",
          "data": {
            "text/plain": [
              "array([[ 5, 10, 15],\n",
              "       [20, 25, 30],\n",
              "       [35, 40, 45],\n",
              "       [50, 55, 60]])"
            ]
          },
          "metadata": {},
          "execution_count": 149
        }
      ]
    },
    {
      "cell_type": "code",
      "source": [
        "np.where(a==55)"
      ],
      "metadata": {
        "colab": {
          "base_uri": "https://localhost:8080/"
        },
        "id": "tQhQTzAmqfxU",
        "outputId": "a2dec323-705c-48dc-f98d-1fb481f8ebc6"
      },
      "execution_count": null,
      "outputs": [
        {
          "output_type": "execute_result",
          "data": {
            "text/plain": [
              "(array([3]), array([1]))"
            ]
          },
          "metadata": {},
          "execution_count": 150
        }
      ]
    },
    {
      "cell_type": "code",
      "source": [
        "a = np.arange(5,65,5).reshape(6,2)\n",
        "a"
      ],
      "metadata": {
        "colab": {
          "base_uri": "https://localhost:8080/"
        },
        "id": "CBEsynOQqn0g",
        "outputId": "260b67dd-9b0d-4fcd-c081-a9d376d0cf56"
      },
      "execution_count": null,
      "outputs": [
        {
          "output_type": "execute_result",
          "data": {
            "text/plain": [
              "array([[ 5, 10],\n",
              "       [15, 20],\n",
              "       [25, 30],\n",
              "       [35, 40],\n",
              "       [45, 50],\n",
              "       [55, 60]])"
            ]
          },
          "metadata": {},
          "execution_count": 151
        }
      ]
    },
    {
      "cell_type": "code",
      "source": [
        "np.where(a==40)"
      ],
      "metadata": {
        "colab": {
          "base_uri": "https://localhost:8080/"
        },
        "id": "CauL98PDqtUi",
        "outputId": "55dbde67-2fa8-4f9a-9c15-1ef7a69a84a2"
      },
      "execution_count": null,
      "outputs": [
        {
          "output_type": "execute_result",
          "data": {
            "text/plain": [
              "(array([3]), array([1]))"
            ]
          },
          "metadata": {},
          "execution_count": 152
        }
      ]
    },
    {
      "cell_type": "code",
      "source": [
        "b = np.arange(10,100,6)\n",
        "b"
      ],
      "metadata": {
        "colab": {
          "base_uri": "https://localhost:8080/"
        },
        "id": "Z3f0HvqsuDo3",
        "outputId": "76df02a2-0f29-4ab4-df58-faa63c208b55"
      },
      "execution_count": null,
      "outputs": [
        {
          "output_type": "execute_result",
          "data": {
            "text/plain": [
              "array([10, 16, 22, 28, 34, 40, 46, 52, 58, 64, 70, 76, 82, 88, 94])"
            ]
          },
          "metadata": {},
          "execution_count": 153
        }
      ]
    },
    {
      "cell_type": "code",
      "source": [
        "np.where(b==52)"
      ],
      "metadata": {
        "colab": {
          "base_uri": "https://localhost:8080/"
        },
        "id": "oiF4ztZjuObu",
        "outputId": "6ffa0cfc-413b-4454-ac62-937b0352d0d4"
      },
      "execution_count": null,
      "outputs": [
        {
          "output_type": "execute_result",
          "data": {
            "text/plain": [
              "(array([7]),)"
            ]
          },
          "metadata": {},
          "execution_count": 154
        }
      ]
    },
    {
      "cell_type": "code",
      "source": [
        "a"
      ],
      "metadata": {
        "colab": {
          "base_uri": "https://localhost:8080/"
        },
        "id": "0hCRUlwzuaDJ",
        "outputId": "d5fddfe8-2416-46f1-bb4f-d6d4ccd041e2"
      },
      "execution_count": null,
      "outputs": [
        {
          "output_type": "execute_result",
          "data": {
            "text/plain": [
              "array([[ 5, 10],\n",
              "       [15, 20],\n",
              "       [25, 30],\n",
              "       [35, 40],\n",
              "       [45, 50],\n",
              "       [55, 60]])"
            ]
          },
          "metadata": {},
          "execution_count": 155
        }
      ]
    },
    {
      "cell_type": "code",
      "source": [
        "np.where(a%20==0)"
      ],
      "metadata": {
        "colab": {
          "base_uri": "https://localhost:8080/"
        },
        "id": "xGyFoKQHuYfo",
        "outputId": "68e69803-781b-4e2c-d7c8-a61a780671ea"
      },
      "execution_count": null,
      "outputs": [
        {
          "output_type": "execute_result",
          "data": {
            "text/plain": [
              "(array([1, 3, 5]), array([1, 1, 1]))"
            ]
          },
          "metadata": {},
          "execution_count": 156
        }
      ]
    },
    {
      "cell_type": "markdown",
      "source": [
        "# **searchsorted**()"
      ],
      "metadata": {
        "id": "Th6kUEe8ulEp"
      }
    },
    {
      "cell_type": "code",
      "source": [
        "a = np.array([234,345,456,567,678,890,132,434])\n",
        "a\n"
      ],
      "metadata": {
        "colab": {
          "base_uri": "https://localhost:8080/"
        },
        "id": "FrRamnILurtd",
        "outputId": "e4ffad4f-1e5f-46d2-c439-752ccbc73534"
      },
      "execution_count": null,
      "outputs": [
        {
          "output_type": "execute_result",
          "data": {
            "text/plain": [
              "array([234, 345, 456, 567, 678, 890, 132, 434])"
            ]
          },
          "metadata": {},
          "execution_count": 157
        }
      ]
    },
    {
      "cell_type": "code",
      "source": [
        "np.searchsorted(a,567)"
      ],
      "metadata": {
        "colab": {
          "base_uri": "https://localhost:8080/"
        },
        "id": "zDAEmXRWu1zP",
        "outputId": "d0272eaf-4db6-4865-d0bd-0901f2007b5a"
      },
      "execution_count": null,
      "outputs": [
        {
          "output_type": "execute_result",
          "data": {
            "text/plain": [
              "3"
            ]
          },
          "metadata": {},
          "execution_count": 158
        }
      ]
    },
    {
      "cell_type": "code",
      "source": [],
      "metadata": {
        "id": "OKVg8AXVu90J"
      },
      "execution_count": null,
      "outputs": []
    },
    {
      "cell_type": "markdown",
      "source": [
        "#**Arithmetic Operations**\n",
        "\n",
        "\n",
        "*   add()\n",
        "*   subtract()\n",
        "*   multily()\n",
        "*   divide()\n",
        "*   exp()\n",
        "*   sqrt()\n",
        "*   comparision()\n",
        "\n"
      ],
      "metadata": {
        "id": "WCsnFXwP1nin"
      }
    },
    {
      "cell_type": "markdown",
      "source": [
        "# **Addition**\n",
        "\n",
        "add()"
      ],
      "metadata": {
        "id": "iqhthKje2NOD"
      }
    },
    {
      "cell_type": "code",
      "source": [
        "a = np.array([[22,25,45],[65,78,56]])\n",
        "print(a)"
      ],
      "metadata": {
        "colab": {
          "base_uri": "https://localhost:8080/"
        },
        "id": "XBwgpeq72VuK",
        "outputId": "67e8ee14-0053-4223-dd74-d97e1ac9b2ae"
      },
      "execution_count": null,
      "outputs": [
        {
          "output_type": "stream",
          "name": "stdout",
          "text": [
            "[[22 25 45]\n",
            " [65 78 56]]\n"
          ]
        }
      ]
    },
    {
      "cell_type": "code",
      "source": [
        "b = np.array([[72,66,95],[42,78,69]])\n",
        "print(b)"
      ],
      "metadata": {
        "colab": {
          "base_uri": "https://localhost:8080/"
        },
        "id": "cUDYNJOi2ea2",
        "outputId": "f94e41f7-6ca1-46b1-fcc4-5b73c324e168"
      },
      "execution_count": null,
      "outputs": [
        {
          "output_type": "stream",
          "name": "stdout",
          "text": [
            "[[72 66 95]\n",
            " [42 78 69]]\n"
          ]
        }
      ]
    },
    {
      "cell_type": "code",
      "source": [
        "np.add(a,b)"
      ],
      "metadata": {
        "colab": {
          "base_uri": "https://localhost:8080/"
        },
        "id": "Ww3wMqO52qZD",
        "outputId": "4d091ca9-b116-43ed-f7cf-d7d11212501c"
      },
      "execution_count": null,
      "outputs": [
        {
          "output_type": "execute_result",
          "data": {
            "text/plain": [
              "array([[ 94,  91, 140],\n",
              "       [107, 156, 125]])"
            ]
          },
          "metadata": {},
          "execution_count": 161
        }
      ]
    },
    {
      "cell_type": "markdown",
      "source": [
        "# **subtract**\n",
        "\n",
        "subtract()"
      ],
      "metadata": {
        "id": "62uY4VvQ2vsi"
      }
    },
    {
      "cell_type": "code",
      "source": [
        "np.subtract(a,b)"
      ],
      "metadata": {
        "colab": {
          "base_uri": "https://localhost:8080/"
        },
        "id": "6KCvfcQ-2tPy",
        "outputId": "b53634c4-ac84-4066-ca4a-64387db79381"
      },
      "execution_count": null,
      "outputs": [
        {
          "output_type": "execute_result",
          "data": {
            "text/plain": [
              "array([[-50, -41, -50],\n",
              "       [ 23,   0, -13]])"
            ]
          },
          "metadata": {},
          "execution_count": 162
        }
      ]
    },
    {
      "cell_type": "markdown",
      "source": [
        "# **Multiply**\n",
        "\n",
        "multiply()\n"
      ],
      "metadata": {
        "id": "ROdKYNQA25-W"
      }
    },
    {
      "cell_type": "code",
      "source": [
        "np.multiply(a,b)"
      ],
      "metadata": {
        "colab": {
          "base_uri": "https://localhost:8080/"
        },
        "id": "e2xlrjAg24RS",
        "outputId": "a42f4c7b-eb1b-43f6-de7d-c30d59eac355"
      },
      "execution_count": null,
      "outputs": [
        {
          "output_type": "execute_result",
          "data": {
            "text/plain": [
              "array([[1584, 1650, 4275],\n",
              "       [2730, 6084, 3864]])"
            ]
          },
          "metadata": {},
          "execution_count": 163
        }
      ]
    },
    {
      "cell_type": "markdown",
      "source": [
        "# **Divide**\n",
        "\n",
        "divide()"
      ],
      "metadata": {
        "id": "IEdcycct3LNd"
      }
    },
    {
      "cell_type": "code",
      "source": [
        "np.divide(a,b)"
      ],
      "metadata": {
        "colab": {
          "base_uri": "https://localhost:8080/"
        },
        "id": "1Ry0XKIK3ISC",
        "outputId": "9f20c1fd-91cc-413d-b256-ff2bb87e9e6c"
      },
      "execution_count": null,
      "outputs": [
        {
          "output_type": "execute_result",
          "data": {
            "text/plain": [
              "array([[0.30555556, 0.37878788, 0.47368421],\n",
              "       [1.54761905, 1.        , 0.8115942 ]])"
            ]
          },
          "metadata": {},
          "execution_count": 164
        }
      ]
    },
    {
      "cell_type": "markdown",
      "source": [
        "# **Exponential**\n",
        "\n",
        "exp()"
      ],
      "metadata": {
        "id": "PvbDFnU-3Xed"
      }
    },
    {
      "cell_type": "code",
      "source": [
        "np.exp(a)"
      ],
      "metadata": {
        "colab": {
          "base_uri": "https://localhost:8080/"
        },
        "id": "6Qn-bmCm3S_R",
        "outputId": "012c3f87-5457-4c84-919b-39ea4a8bda86"
      },
      "execution_count": null,
      "outputs": [
        {
          "output_type": "execute_result",
          "data": {
            "text/plain": [
              "array([[3.58491285e+09, 7.20048993e+10, 3.49342711e+19],\n",
              "       [1.69488924e+28, 7.49841700e+33, 2.09165950e+24]])"
            ]
          },
          "metadata": {},
          "execution_count": 165
        }
      ]
    },
    {
      "cell_type": "code",
      "source": [
        "np.exp(b)"
      ],
      "metadata": {
        "colab": {
          "base_uri": "https://localhost:8080/"
        },
        "id": "z4jEg_YR3hvh",
        "outputId": "21af12c6-8214-46fd-d2c8-4f0a1fbb2b16"
      },
      "execution_count": null,
      "outputs": [
        {
          "output_type": "execute_result",
          "data": {
            "text/plain": [
              "array([[1.85867175e+31, 4.60718663e+28, 1.81123908e+41],\n",
              "       [1.73927494e+18, 7.49841700e+33, 9.25378173e+29]])"
            ]
          },
          "metadata": {},
          "execution_count": 166
        }
      ]
    },
    {
      "cell_type": "markdown",
      "source": [
        "#**SquareRoot**\n",
        "\n",
        "sqrt()"
      ],
      "metadata": {
        "id": "ldN7Cho73lHm"
      }
    },
    {
      "cell_type": "code",
      "source": [
        "np.sqrt(a)"
      ],
      "metadata": {
        "colab": {
          "base_uri": "https://localhost:8080/"
        },
        "id": "Z5ZVNyex3jpg",
        "outputId": "d62017a2-a741-4846-a207-4ecbc29ac7b5"
      },
      "execution_count": null,
      "outputs": [
        {
          "output_type": "execute_result",
          "data": {
            "text/plain": [
              "array([[4.69041576, 5.        , 6.70820393],\n",
              "       [8.06225775, 8.83176087, 7.48331477]])"
            ]
          },
          "metadata": {},
          "execution_count": 167
        }
      ]
    },
    {
      "cell_type": "code",
      "source": [
        "np.sqrt(b)"
      ],
      "metadata": {
        "colab": {
          "base_uri": "https://localhost:8080/"
        },
        "id": "G77F2rHk32yx",
        "outputId": "e2481ec8-74e4-475c-8eb8-b53801e02b08"
      },
      "execution_count": null,
      "outputs": [
        {
          "output_type": "execute_result",
          "data": {
            "text/plain": [
              "array([[8.48528137, 8.1240384 , 9.74679434],\n",
              "       [6.4807407 , 8.83176087, 8.30662386]])"
            ]
          },
          "metadata": {},
          "execution_count": 168
        }
      ]
    },
    {
      "cell_type": "markdown",
      "source": [
        "# **Comparision**"
      ],
      "metadata": {
        "id": "3i8L0-4O388n"
      }
    },
    {
      "cell_type": "code",
      "source": [
        "# \"==\" is applied in comparision\n",
        "a"
      ],
      "metadata": {
        "colab": {
          "base_uri": "https://localhost:8080/"
        },
        "id": "Ub9peF7y35Dh",
        "outputId": "d94e9330-c093-457c-db20-8d6e22770d9e"
      },
      "execution_count": null,
      "outputs": [
        {
          "output_type": "execute_result",
          "data": {
            "text/plain": [
              "array([[22, 25, 45],\n",
              "       [65, 78, 56]])"
            ]
          },
          "metadata": {},
          "execution_count": 169
        }
      ]
    },
    {
      "cell_type": "code",
      "source": [
        "b"
      ],
      "metadata": {
        "colab": {
          "base_uri": "https://localhost:8080/"
        },
        "id": "yAJq3iwH4Gl_",
        "outputId": "38efa14d-0723-4802-fb60-4b7a67bf5ebb"
      },
      "execution_count": null,
      "outputs": [
        {
          "output_type": "execute_result",
          "data": {
            "text/plain": [
              "array([[72, 66, 95],\n",
              "       [42, 78, 69]])"
            ]
          },
          "metadata": {},
          "execution_count": 170
        }
      ]
    },
    {
      "cell_type": "code",
      "source": [
        "b[1][0] = 65\n",
        "b[1][1] = 74\n",
        "b[1][2] = 87"
      ],
      "metadata": {
        "id": "oEub0Hfu4Hg_"
      },
      "execution_count": null,
      "outputs": []
    },
    {
      "cell_type": "code",
      "source": [
        "b"
      ],
      "metadata": {
        "colab": {
          "base_uri": "https://localhost:8080/"
        },
        "id": "wIQx5x9s4c-f",
        "outputId": "71d3d730-6f0d-4f55-cd9a-cc93344188ee"
      },
      "execution_count": null,
      "outputs": [
        {
          "output_type": "execute_result",
          "data": {
            "text/plain": [
              "array([[72, 66, 95],\n",
              "       [65, 74, 87]])"
            ]
          },
          "metadata": {},
          "execution_count": 172
        }
      ]
    },
    {
      "cell_type": "code",
      "source": [
        "np.array_equal(a,b)"
      ],
      "metadata": {
        "colab": {
          "base_uri": "https://localhost:8080/"
        },
        "id": "m8jHiFOY4duO",
        "outputId": "1cc7d00c-14f3-4aa8-ee97-69c9f6bcb110"
      },
      "execution_count": null,
      "outputs": [
        {
          "output_type": "execute_result",
          "data": {
            "text/plain": [
              "False"
            ]
          },
          "metadata": {},
          "execution_count": 173
        }
      ]
    },
    {
      "cell_type": "code",
      "source": [
        "a == b"
      ],
      "metadata": {
        "colab": {
          "base_uri": "https://localhost:8080/"
        },
        "id": "wsTKzzp_4itP",
        "outputId": "a46ca992-6c4f-4f38-b9c9-1621f7ca630f"
      },
      "execution_count": null,
      "outputs": [
        {
          "output_type": "execute_result",
          "data": {
            "text/plain": [
              "array([[False, False, False],\n",
              "       [ True, False, False]])"
            ]
          },
          "metadata": {},
          "execution_count": 174
        }
      ]
    },
    {
      "cell_type": "markdown",
      "source": [
        "# **ARRAY FUNCTIONS**\n",
        "\n",
        "\n",
        "*   sum()\n",
        "*   min()\n",
        "*   max()\n",
        "*   mean()\n",
        "*   median()\n",
        "*   var()\n",
        "*   std()\n",
        "\n",
        "\n"
      ],
      "metadata": {
        "id": "svvmMi2PPoza"
      }
    },
    {
      "cell_type": "markdown",
      "source": [
        "# **min**()"
      ],
      "metadata": {
        "id": "dnNzAT3TQGhB"
      }
    },
    {
      "cell_type": "code",
      "source": [
        "a = np.array([[100,200],[300,400],[500,600]])\n",
        "a"
      ],
      "metadata": {
        "id": "Ht6NBRAI4k8i",
        "colab": {
          "base_uri": "https://localhost:8080/"
        },
        "outputId": "6ea02a82-0ea5-4f1e-8fd3-4af474a8dfc5"
      },
      "execution_count": null,
      "outputs": [
        {
          "output_type": "execute_result",
          "data": {
            "text/plain": [
              "array([[100, 200],\n",
              "       [300, 400],\n",
              "       [500, 600]])"
            ]
          },
          "metadata": {},
          "execution_count": 175
        }
      ]
    },
    {
      "cell_type": "code",
      "source": [
        "np.min(a)"
      ],
      "metadata": {
        "colab": {
          "base_uri": "https://localhost:8080/"
        },
        "id": "2DCqQGYkQW2n",
        "outputId": "df74971f-b4ef-453b-c539-f8f72664217d"
      },
      "execution_count": null,
      "outputs": [
        {
          "output_type": "execute_result",
          "data": {
            "text/plain": [
              "100"
            ]
          },
          "metadata": {},
          "execution_count": 176
        }
      ]
    },
    {
      "cell_type": "code",
      "source": [
        "np.min(a,axis = 1)"
      ],
      "metadata": {
        "colab": {
          "base_uri": "https://localhost:8080/"
        },
        "id": "itSZxOO6QaMt",
        "outputId": "f98ae9cb-f844-44f6-fbcb-2b45bac2be4f"
      },
      "execution_count": null,
      "outputs": [
        {
          "output_type": "execute_result",
          "data": {
            "text/plain": [
              "array([100, 300, 500])"
            ]
          },
          "metadata": {},
          "execution_count": 177
        }
      ]
    },
    {
      "cell_type": "code",
      "source": [
        "np.min(a,axis = 0)"
      ],
      "metadata": {
        "colab": {
          "base_uri": "https://localhost:8080/"
        },
        "id": "UhvsE1r7Qeu8",
        "outputId": "2a8ac6c6-565f-42af-d5f6-dd7c03352141"
      },
      "execution_count": null,
      "outputs": [
        {
          "output_type": "execute_result",
          "data": {
            "text/plain": [
              "array([100, 200])"
            ]
          },
          "metadata": {},
          "execution_count": 178
        }
      ]
    },
    {
      "cell_type": "markdown",
      "source": [
        "# **max**()"
      ],
      "metadata": {
        "id": "Mx8tWx7kQipg"
      }
    },
    {
      "cell_type": "code",
      "source": [
        "np.max(a)"
      ],
      "metadata": {
        "colab": {
          "base_uri": "https://localhost:8080/"
        },
        "id": "KJA0zVjAQg4_",
        "outputId": "757faa3c-e1ef-42ee-bc27-32a4b53c9e16"
      },
      "execution_count": null,
      "outputs": [
        {
          "output_type": "execute_result",
          "data": {
            "text/plain": [
              "600"
            ]
          },
          "metadata": {},
          "execution_count": 179
        }
      ]
    },
    {
      "cell_type": "code",
      "source": [
        "np.max(a,axis = 1)"
      ],
      "metadata": {
        "colab": {
          "base_uri": "https://localhost:8080/"
        },
        "id": "hNvZxmE9Qm3s",
        "outputId": "b91f4d48-f00f-457a-8bdc-06b7500bf9e1"
      },
      "execution_count": null,
      "outputs": [
        {
          "output_type": "execute_result",
          "data": {
            "text/plain": [
              "array([200, 400, 600])"
            ]
          },
          "metadata": {},
          "execution_count": 180
        }
      ]
    },
    {
      "cell_type": "code",
      "source": [
        "np.min(a,axis = 0)"
      ],
      "metadata": {
        "colab": {
          "base_uri": "https://localhost:8080/"
        },
        "id": "4NdhHA3pQq67",
        "outputId": "365334e6-4e20-4241-87b8-84db0dd92d85"
      },
      "execution_count": null,
      "outputs": [
        {
          "output_type": "execute_result",
          "data": {
            "text/plain": [
              "array([100, 200])"
            ]
          },
          "metadata": {},
          "execution_count": 181
        }
      ]
    },
    {
      "cell_type": "markdown",
      "source": [
        "# **sum**()"
      ],
      "metadata": {
        "id": "3uKhe5ivQu_F"
      }
    },
    {
      "cell_type": "code",
      "source": [
        "np.sum(a)"
      ],
      "metadata": {
        "colab": {
          "base_uri": "https://localhost:8080/"
        },
        "id": "KDgdXy9eQtLh",
        "outputId": "adb6ecd3-e784-4ee6-8dae-4b1344949ae1"
      },
      "execution_count": null,
      "outputs": [
        {
          "output_type": "execute_result",
          "data": {
            "text/plain": [
              "2100"
            ]
          },
          "metadata": {},
          "execution_count": 182
        }
      ]
    },
    {
      "cell_type": "code",
      "source": [
        "np.sum(a,axis = 1)"
      ],
      "metadata": {
        "colab": {
          "base_uri": "https://localhost:8080/"
        },
        "id": "dq03R65-Q2LP",
        "outputId": "8fae7837-bb0f-475b-8974-8e126b48d2a6"
      },
      "execution_count": null,
      "outputs": [
        {
          "output_type": "execute_result",
          "data": {
            "text/plain": [
              "array([ 300,  700, 1100])"
            ]
          },
          "metadata": {},
          "execution_count": 183
        }
      ]
    },
    {
      "cell_type": "code",
      "source": [
        "np.sum(a,axis = 0)"
      ],
      "metadata": {
        "colab": {
          "base_uri": "https://localhost:8080/"
        },
        "id": "m5JXrSyLQ7_o",
        "outputId": "588380c4-7146-4857-9fc3-156277101924"
      },
      "execution_count": null,
      "outputs": [
        {
          "output_type": "execute_result",
          "data": {
            "text/plain": [
              "array([ 900, 1200])"
            ]
          },
          "metadata": {},
          "execution_count": 184
        }
      ]
    },
    {
      "cell_type": "markdown",
      "source": [
        "# **mean**()\n",
        "\n",
        "average"
      ],
      "metadata": {
        "id": "Lj4LSrCDSXy6"
      }
    },
    {
      "cell_type": "code",
      "source": [
        "np.mean(a)"
      ],
      "metadata": {
        "colab": {
          "base_uri": "https://localhost:8080/"
        },
        "id": "ifhPfeGMSQiB",
        "outputId": "c44f7a5f-26ea-4d70-8948-900187f32f7f"
      },
      "execution_count": null,
      "outputs": [
        {
          "output_type": "execute_result",
          "data": {
            "text/plain": [
              "350.0"
            ]
          },
          "metadata": {},
          "execution_count": 185
        }
      ]
    },
    {
      "cell_type": "code",
      "source": [
        "np.mean(a,axis = 1)"
      ],
      "metadata": {
        "colab": {
          "base_uri": "https://localhost:8080/"
        },
        "id": "BKprcaEkSie-",
        "outputId": "465623b5-a06c-4855-823b-9fb5fa1bfe90"
      },
      "execution_count": null,
      "outputs": [
        {
          "output_type": "execute_result",
          "data": {
            "text/plain": [
              "array([150., 350., 550.])"
            ]
          },
          "metadata": {},
          "execution_count": 186
        }
      ]
    },
    {
      "cell_type": "code",
      "source": [
        "np.mean(a,axis = 0)"
      ],
      "metadata": {
        "colab": {
          "base_uri": "https://localhost:8080/"
        },
        "id": "2hQbmCi3SmJf",
        "outputId": "c1892d76-3e80-40e5-af89-cac2057b5dba"
      },
      "execution_count": null,
      "outputs": [
        {
          "output_type": "execute_result",
          "data": {
            "text/plain": [
              "array([300., 400.])"
            ]
          },
          "metadata": {},
          "execution_count": 187
        }
      ]
    },
    {
      "cell_type": "markdown",
      "source": [
        "# **meadian**()"
      ],
      "metadata": {
        "id": "9Wpy2o_tSsLL"
      }
    },
    {
      "cell_type": "code",
      "source": [
        "np.median(a)"
      ],
      "metadata": {
        "colab": {
          "base_uri": "https://localhost:8080/"
        },
        "id": "MLoLgBRRSpVo",
        "outputId": "8b00df0d-6f67-4313-e6a7-5cc9c8c9cefe"
      },
      "execution_count": null,
      "outputs": [
        {
          "output_type": "execute_result",
          "data": {
            "text/plain": [
              "350.0"
            ]
          },
          "metadata": {},
          "execution_count": 188
        }
      ]
    },
    {
      "cell_type": "code",
      "source": [
        "np.median(a,axis = 1)"
      ],
      "metadata": {
        "colab": {
          "base_uri": "https://localhost:8080/"
        },
        "id": "Lr4K0hURSzSI",
        "outputId": "ec27be12-645e-4154-a9be-0bd2cf8e7e5a"
      },
      "execution_count": null,
      "outputs": [
        {
          "output_type": "execute_result",
          "data": {
            "text/plain": [
              "array([150., 350., 550.])"
            ]
          },
          "metadata": {},
          "execution_count": 189
        }
      ]
    },
    {
      "cell_type": "code",
      "source": [
        "np.median(a,axis = 0)"
      ],
      "metadata": {
        "colab": {
          "base_uri": "https://localhost:8080/"
        },
        "id": "U-uHSnKlS26h",
        "outputId": "4f60786f-1b2f-4729-8313-dfad69ee8bfe"
      },
      "execution_count": null,
      "outputs": [
        {
          "output_type": "execute_result",
          "data": {
            "text/plain": [
              "array([300., 400.])"
            ]
          },
          "metadata": {},
          "execution_count": 190
        }
      ]
    },
    {
      "cell_type": "markdown",
      "source": [
        "# **var**()\n",
        "\n",
        "variance"
      ],
      "metadata": {
        "id": "vMGk_LLsS9M8"
      }
    },
    {
      "cell_type": "code",
      "source": [
        "np.var(a)"
      ],
      "metadata": {
        "colab": {
          "base_uri": "https://localhost:8080/"
        },
        "id": "HoNS7YnmS6GQ",
        "outputId": "f661cfa0-ab5d-4bd2-f6d8-5e9fce17d386"
      },
      "execution_count": null,
      "outputs": [
        {
          "output_type": "execute_result",
          "data": {
            "text/plain": [
              "29166.666666666668"
            ]
          },
          "metadata": {},
          "execution_count": 191
        }
      ]
    },
    {
      "cell_type": "code",
      "source": [
        "np.var(a,axis = 1)"
      ],
      "metadata": {
        "colab": {
          "base_uri": "https://localhost:8080/"
        },
        "id": "YzlJo0flTDDA",
        "outputId": "af573dc1-f909-4530-97f4-0b7bb970e7f2"
      },
      "execution_count": null,
      "outputs": [
        {
          "output_type": "execute_result",
          "data": {
            "text/plain": [
              "array([2500., 2500., 2500.])"
            ]
          },
          "metadata": {},
          "execution_count": 192
        }
      ]
    },
    {
      "cell_type": "code",
      "source": [
        "np.var(a,axis = 0)"
      ],
      "metadata": {
        "colab": {
          "base_uri": "https://localhost:8080/"
        },
        "id": "LlyQv_zMTHg_",
        "outputId": "9c7a384f-4f05-4bae-8f5d-c882ecc5fc14"
      },
      "execution_count": null,
      "outputs": [
        {
          "output_type": "execute_result",
          "data": {
            "text/plain": [
              "array([26666.66666667, 26666.66666667])"
            ]
          },
          "metadata": {},
          "execution_count": 193
        }
      ]
    },
    {
      "cell_type": "markdown",
      "source": [
        "# **std**()"
      ],
      "metadata": {
        "id": "prbUjIcoTLhg"
      }
    },
    {
      "cell_type": "code",
      "source": [
        "np.std(a)"
      ],
      "metadata": {
        "colab": {
          "base_uri": "https://localhost:8080/"
        },
        "id": "KUMUkMoUTJqE",
        "outputId": "d6c4bb9d-795d-48bd-eb74-b8eba6d92858"
      },
      "execution_count": null,
      "outputs": [
        {
          "output_type": "execute_result",
          "data": {
            "text/plain": [
              "170.78251276599332"
            ]
          },
          "metadata": {},
          "execution_count": 194
        }
      ]
    },
    {
      "cell_type": "code",
      "source": [
        "np.std(a,axis = 1)"
      ],
      "metadata": {
        "colab": {
          "base_uri": "https://localhost:8080/"
        },
        "id": "ivu7HjnETSX2",
        "outputId": "e16e4915-f08d-4ee3-9ab8-53c19fcc72e5"
      },
      "execution_count": null,
      "outputs": [
        {
          "output_type": "execute_result",
          "data": {
            "text/plain": [
              "array([50., 50., 50.])"
            ]
          },
          "metadata": {},
          "execution_count": 195
        }
      ]
    },
    {
      "cell_type": "code",
      "source": [
        "np.std(a,axis = 0)"
      ],
      "metadata": {
        "colab": {
          "base_uri": "https://localhost:8080/"
        },
        "id": "EyouchM5TVlA",
        "outputId": "ce064c0d-e8c3-4bc2-db55-b6c13b69d2b1"
      },
      "execution_count": null,
      "outputs": [
        {
          "output_type": "execute_result",
          "data": {
            "text/plain": [
              "array([163.29931619, 163.29931619])"
            ]
          },
          "metadata": {},
          "execution_count": 196
        }
      ]
    },
    {
      "cell_type": "code",
      "source": [],
      "metadata": {
        "id": "c54Fm50-TXX6"
      },
      "execution_count": null,
      "outputs": []
    }
  ]
}